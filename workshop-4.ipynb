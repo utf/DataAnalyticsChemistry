{
 "cells": [
  {
   "cell_type": "markdown",
   "metadata": {
    "id": "aB6tYmdQciGS",
    "tags": []
   },
   "source": [
    "# 4. Neural Networks\n",
    "\n",
    "Taught by: Dat Doan, Alex Ganose\n",
    "\n",
    "The start of this notebook was inspired by the [ML for Materials](https://github.com/aronwalsh/MLforMaterials) course developed by Prof. Aron Walsh.\n",
    "\n",
    "## Getting started\n",
    "\n",
    "Welcome to the third practical session! As always, the notebook is designed to be run online directly in your browser by clicking the rocket icon on the top right and selecting `Live Code`.\n",
    "\n",
    "## Outline\n",
    "\n",
    "This workshop will cover the following content:\n",
    "\n",
    "1. The perceptron\n",
    "1. Multi-layer perceptrons\n",
    "1. NNs with PyTorch\n",
    "1. Image classification\n",
    "1. Convolutional neural networks\n",
    "1. Final Project\n",
    "\n",
    "## Artificial Neural Networks\n",
    "\n",
    "Artificial neural networks are a class of machine learning models that are inspired by the structure and function of the human brain.\n",
    "\n",
    "A short history of neural networks:\n",
    "\n",
    "- 1943: McCulloch and Pitts propose a mathematical model of a neuron in the landmark paper [\"A logical calculus of the ideas immanent in nervous activity\"](https://doi.org/10.1007/BF02478259).\n",
    "- 1958: Rosenblatt introduces the perceptron, a simple neural network model.\n",
    "- Dark years: Neural networks fall out of favor due to limitations in training algorithms and computational power. Funding for neural network research is cut.\n",
    "- 1980s: Neural networks experience a resurgence due to the development of backpropagation and the increasing availability of computational resources.\n",
    "- 1980: Hopfield introduces the [Hopfield network](https://doi.org/10.1073/pnas.79.8.2554), a type of recurrent neural network.\n",
    "- 1986: Rumelhart, Hinton, and Williams publish a paper on backpropagation, a method for training neural networks.\n",
    "- 2012: AlexNet wins the ImageNet competition, demonstrating the power of deep learning.\n",
    "- 2016: AlphaGo defeats the world champion Go player, demonstrating the power of deep reinforcement learning.\n",
    "\n",
    "Neural networks have become increasingly popular in recent years due to their ability to learn complex patterns from data and make accurate predictions.\n",
    "They can be used to classify billions of images, translate languages in real-time, and play games at a superhuman level.\n",
    "\n",
    "\n",
    "## Biological vs artificial neural networks\n",
    "\n",
    "Biological neural networks are composed of interconnected neurons that communicate with each other through electrical and chemical signals.\n",
    "These networks are responsible for processing information, learning, and controlling behavior.\n",
    "\n",
    "Artificial neural networks are inspired by biological neural networks but are much simpler in structure and function.\n",
    "There are many different types of neural networks, each with its own architecture and set of rules for updating the weights.\n",
    "\n",
    "| Biological neurons | Artificial neurons | \n",
    "| :--- | ---: | \n",
    "| Composed of *dendrites*, a *cell body* and an *axon*.  | Composed of *input connections + synaptic weights*, a *summing junction* and an *activation function*. | \n",
    "| Sends signals in the form of *neurotransmitters* (chemicals) into the *synaptic terminals* | Sends signals in the form of *numbers* (in 1943: binary on/off) into the *output connection* |\n",
    "| Activates when *cell body* receives a sufficient amount of signals through *dendrites* | Activates when sufficient number of *input connections* are active |\n",
    "\n",
    "## The perceptron\n",
    "\n",
    "The perceptron is the simplest form of a neural network. \n",
    "It is a single-layer neural network that takes in a set of inputs and produces a single output. \n",
    "The output is calculated by taking the dot product of the input vector and a set of weights, and passing the result through an activation function. \n",
    "\n",
    "$$\n",
    "y = \\begin{cases} 1 & \\text{if } \\sum_{i=1}^{n} x_i w_i + \\beta > 0 \\\\ 0 & \\text{otherwise} \\end{cases}\n",
    "$$\n",
    "\n",
    "where \n",
    "\n",
    "- $x_i$ is the $i$-th input\n",
    "- $w_i$ is the $i$-th weight \n",
    "- $\\beta$ is the bias \n",
    "- $n$ is the number of inputs\n",
    "\n",
    "The weights are adjusted during training to minimize the error between the predicted output and the true output.\n",
    "\n",
    "Let's start be implementing a basic perceptron model. You should finish the `perceptron` function below, based on the formula for the perceptron given above."
   ]
  },
  {
   "cell_type": "code",
   "execution_count": null,
   "metadata": {},
   "outputs": [],
   "source": [
    "import numpy as np\n",
    "\n",
    "# Write a function to calculate the output of a perceptron model\n",
    "def perceptron(x, w, b=0):\n",
    "  \"\"\"Perceptron model\n",
    "  \n",
    "  Args:\n",
    "    x: input vector (array with 2 elements)\n",
    "    w: weights vector (array with 2 elements)\n",
    "    b: bias term\n",
    "  \"\"\"\n"
   ]
  },
  {
   "cell_type": "markdown",
   "metadata": {},
   "source": [
    "<details>\n",
    "<summary> Answer </summary>\n",
    "The easiest solution is to use the numpy `dot` function to take the dot product between the weights and inputs. The finished code could look something like this:\n",
    "\n",
    "```python\n",
    "def perceptron(x, w, b=0):\n",
    "  \"\"\"Perceptron model\n",
    "  \n",
    "  Args:\n",
    "    x: input vector (array with 2 elements)\n",
    "    w: weights vector (array with 2 elements)\n",
    "    b: bias term\n",
    "  \"\"\"\n",
    "  h = np.dot(x, w) + b\n",
    "  return 1 if h > 0 else 0\n",
    "```\n",
    "\n",
    "</details>\n",
    "\n",
    "We can play around with the behaviour of the perceptron by running it on different inputs."
   ]
  },
  {
   "cell_type": "code",
   "execution_count": null,
   "metadata": {},
   "outputs": [],
   "source": [
    "print(\"The output for x = (1,  1)  w = (1,  1) is\", perceptron([1, 1], [1, 1]))\n",
    "print(\"The output for x = (0,  0)  w = (0,  0) is\", perceptron([0, 0], [0, 0]))\n",
    "print(\"The output for x = (-1, 0)  w = (1,  0) is\", perceptron([-1, 0], [1, 0]))\n",
    "print(\"The output for x = (-1, 0)  w = (-1, 0) is\", perceptron([-1, 0], [-1, 0]))"
   ]
  },
  {
   "cell_type": "markdown",
   "metadata": {},
   "source": [
    "We have written a simple code to visualise the performance of the perceptron on the domain of -1 to 1. There are two dummy features (scaled temperature and scaled pressure) and we assign the model outputs to \"Gas phase\" (1) or \"Liquid phase\" (0)."
   ]
  },
  {
   "cell_type": "code",
   "execution_count": null,
   "metadata": {},
   "outputs": [],
   "source": [
    "import matplotlib.pyplot as plt\n",
    "from matplotlib.patches import Patch\n",
    "\n",
    "weights = (-0.25, 0.9)\n",
    "bias = 0\n",
    "\n",
    "# Create data points for visualisation\n",
    "n_points = 200\n",
    "temp = np.linspace(-1, 1, n_points)\n",
    "pressure = np.linspace(-1, 1, n_points)\n",
    "X1, X2 = np.meshgrid(temp, pressure)\n",
    "\n",
    "# run the perceptron on the data points\n",
    "predicted_labels = [\n",
    "    perceptron(x, weights, bias)\n",
    "    for x in zip(X2.flat, X1.flat)\n",
    "]\n",
    "predicted_labels = np.array(predicted_labels).reshape(n_points, n_points)\n",
    "\n",
    "fig, ax = plt.subplots()\n",
    "ax.contourf(X1, X2, predicted_labels, alpha=0.2, levels=[-1, 0, 1], colors=('blue', 'orange'))\n",
    "ax.set(xlabel='Scaled Temperature', ylabel='Scaled Pressure', title='Perceptron Model Phase Diagram')\n",
    "ax.legend(handles=[Patch(color='blue', label='Liquid'), Patch(color='orange', label='Gas')])\n",
    "ax.grid()\n",
    "plt.show()"
   ]
  },
  {
   "cell_type": "markdown",
   "metadata": {},
   "source": [
    "You can play around with the weights and bias as the top of the cell to see how it changes the behaviour.\n",
    "\n",
    "## Multi-Layer Perceptrons \n",
    "\n",
    "A multi-layer perceptron (MLP) is a neural network with one or more layers of perceptrons.\n",
    "The output of one layer of perceptrons is used as input for the next layer.\n",
    "The first layer is called the input layer, the last layer is called the output layer, and the layers in between are called hidden layers.\n",
    "When the number of layers becomes large (most commonly tens, or even hundreds nowadays), the model is usually considered a *deep neural network*, one of the most powerful class of machine learning algorithms today and is known commonly as ***Deep Learning***. \n",
    "\n",
    "We can expand our previous model by building a small multi-layer perceptron with one hidden layer.\n",
    "To make the model more flexible, we will use the sigmoid activation function instead of the step function.\n",
    "The sigmoid function is defined as:\n",
    "\n",
    "$$\n",
    "\\sigma(x) = \\frac{1}{1 + e^{-x}}\n",
    "$$\n",
    "\n",
    "We can define this in python as:"
   ]
  },
  {
   "cell_type": "code",
   "execution_count": null,
   "metadata": {},
   "outputs": [],
   "source": [
    "def sigmoid(x):\n",
    "  return 1 / (1 + np.exp(-x))\n",
    "\n",
    "print(\"The output for (-1) is\", sigmoid(-1))\n",
    "print(\"The output for (0) is\", sigmoid(0))\n",
    "print(\"The output for (1) is\", sigmoid(1))\n",
    "print(\"The output for (10000) is\", sigmoid(10000))"
   ]
  },
  {
   "cell_type": "markdown",
   "metadata": {},
   "source": [
    "Let's now create a simple neural network using the sigmoid activation function.\n",
    "\n",
    "- The first layer of the model is the input layer (in our case containing two features).\n",
    "- The second layer is the hidden layer with two perceptrons using the sigmoid activation function.\n",
    "- The third layer is the output layer with one perceptron using the sigmoid activation function.\n",
    "\n",
    "This can be represented graphically as: \n",
    "\n",
    "<svg xmlns=\"http://www.w3.org/2000/svg\" xml:space=\"preserve\" fill-rule=\"evenodd\" clip-rule=\"evenodd\" viewBox=\"0 0 448 105\"><path fill=\"none\" d=\"M0 0h447.037v104.745H0z\"/><g transform=\"matrix(.96594 0 0 .96594 -643.98 -437.791)\"><path fill=\"none\" stroke=\"#505050\" stroke-width=\".77\" d=\"m704 469.5 180 40M704 509.5h180M884 469.5l180 20M884 509.5l180-20M704 469.5h180M704 509.5l180-40\"/><circle cx=\"704\" cy=\"469.5\" r=\"10\" fill=\"#fff\" stroke=\"#333\"/><circle cx=\"704\" cy=\"509.5\" r=\"10\" fill=\"#fff\" stroke=\"#333\"/><circle cx=\"884\" cy=\"469.5\" r=\"10\" fill=\"#fff\" stroke=\"#333\"/><circle cx=\"884\" cy=\"509.5\" r=\"10\" fill=\"#fff\" stroke=\"#333\"/><circle cx=\"1064\" cy=\"489.5\" r=\"10\" fill=\"#fff\" stroke=\"#333\"/><g font-size=\"12\"><text font-family=\"'ArialMT','Arial',sans-serif\" transform=\"translate(669 553.7)\">Input Layer</text><text x=\"63.375\" font-family=\"'AppleSymbols','Apple Symbols'\" transform=\"translate(669 553.7)\">∈</text><text x=\"73.623\" font-family=\"'AppleSymbols','Apple Symbols'\" transform=\"translate(669 553.7)\">ℝ</text><text x=\"83.344\" font-family=\"'ArialMT','Arial',sans-serif\" transform=\"translate(669 553.7)\">²</text></g><g font-size=\"12\"><text font-family=\"'ArialMT','Arial',sans-serif\" transform=\"translate(849 553.7)\">Hidden Layer</text><text x=\"74.713\" font-family=\"'AppleSymbols','Apple Symbols'\" transform=\"translate(849 553.7)\">∈</text><text x=\"84.961\" font-family=\"'AppleSymbols','Apple Symbols'\" transform=\"translate(849 553.7)\">ℝ</text><text x=\"94.682\" font-family=\"'ArialMT','Arial',sans-serif\" transform=\"translate(849 553.7)\">²</text></g><g font-size=\"12\"><text font-family=\"'ArialMT','Arial',sans-serif\" transform=\"translate(1029 553.7)\">Output Layer</text><text x=\"72.709\" font-family=\"'AppleSymbols','Apple Symbols'\" transform=\"translate(1029 553.7)\">∈</text><text x=\"82.957\" font-family=\"'AppleSymbols','Apple Symbols'\" transform=\"translate(1029 553.7)\">ℝ</text><text x=\"92.678\" font-family=\"'ArialMT','Arial',sans-serif\" transform=\"translate(1029 553.7)\">¹</text></g></g><text x=\"206.346\" y=\"14.234\" font-family=\"'ArialMT','Arial',sans-serif\" font-size=\"12\" transform=\"translate(0 6)\">1</text><text x=\"206.346\" y=\"14.234\" font-family=\"'ArialMT','Arial',sans-serif\" font-size=\"12\" transform=\"translate(.361 43.641)\">2</text><text x=\"206.346\" y=\"14.234\" font-family=\"'ArialMT','Arial',sans-serif\" font-size=\"12\" transform=\"translate(174.229 25.113)\">3</text></svg>\n",
    "\n",
    "We have labelled the neurons 1, 2, and 3. Mathemetically, the model can be defined as:\n",
    "\n",
    "$$\n",
    "\\begin{align*}\n",
    "\\mathbf{h} & = \\begin{bmatrix}\n",
    "\\sigma(\\mathbf{x} \\cdot \\mathbf{w}_1 + \\beta_1) \\\\\n",
    "\\sigma(\\mathbf{x} \\cdot \\mathbf{w}_2 + \\beta_2)\n",
    "\\end{bmatrix} \\\\\n",
    "y &= \\sigma(\\mathbf{h} \\cdot \\mathbf{w}_3 + \\beta_3)\n",
    "\\end{align*}\n",
    "$$\n",
    "\n",
    "where:\n",
    "- $\\mathbf{x}$ are the input features\n",
    "- $\\mathbf{w}_i$ are the weights for the $i$-th neuron\n",
    "- $\\beta_i$ is the bias for the $i$-th neuron\n",
    "- $\\mathbf{h}$ is the output of the hidden layer\n",
    "- $y$ is the output of the model.\n",
    "\n",
    "You should finish the `neural_network` function below, based on the formulae given above."
   ]
  },
  {
   "cell_type": "code",
   "execution_count": null,
   "metadata": {},
   "outputs": [],
   "source": [
    "def neural_network(x, w1, w2, w3, b1=0, b2=0, b3=0):\n",
    "  \"\"\"Neural network model\n",
    "  \n",
    "  Args:\n",
    "    x: input vector (array with 2 elements)\n",
    "    w1, w2, w3: weights vectors (arrays with 2 elements)\n",
    "    b1, b2, b3: bias terms\n",
    "  \"\"\"\n"
   ]
  },
  {
   "cell_type": "markdown",
   "metadata": {},
   "source": [
    "<details>\n",
    "<summary> Answer </summary>\n",
    "Again, the easiest solution is to use the numpy `dot` function to take the dot product between the weights and inputs. The finished code could look something like this:\n",
    "\n",
    "```python\n",
    "def neural_network(x, w1, w2, w3, b1=0, b2=0, b3=0):\n",
    "  \"\"\"Neural network model\n",
    "  \n",
    "  Args:\n",
    "    x: input vector (array with 2 elements)\n",
    "    w1, w2, w3: weights vectors (arrays with 2 elements)\n",
    "    b1, b2, b3: bias terms\n",
    "  \"\"\"\n",
    "  h = [\n",
    "      sigmoid(np.dot(x, w1) + b1)\n",
    "      sigmoid(np.dot(x, w2) + b2)\n",
    "  ]\n",
    "  return sigmoid(np.dot(h, w3) + b3)\n",
    "```\n",
    "\n",
    "If you're unsure about the code, please speak to one of the course assistants. \n",
    "\n",
    "</details>\n",
    "\n",
    "Once you're happy with your code, you can see what it predicts using the cell below.\n"
   ]
  },
  {
   "cell_type": "code",
   "execution_count": null,
   "metadata": {},
   "outputs": [],
   "source": [
    "weights1 = [ 3.8430335, -3.17603404] \n",
    "weights2 = [-0.5338159, -2.88928327]\n",
    "weights3 = [-2.66952744,  3.82808745]\n",
    "bias1 = 0\n",
    "bias2 = 0\n",
    "bias3 = 0\n",
    "\n",
    "# run the network on the data points\n",
    "predicted_labels = [\n",
    "    neural_network(x, weights1, weights2, weights3, bias1, bias2, bias3)\n",
    "    for x in zip(X2.flat, X1.flat)\n",
    "]\n",
    "predicted_labels = np.array(predicted_labels).reshape(n_points, n_points)\n",
    "\n",
    "def plot_results(predicted_labels):\n",
    "    fig, ax = plt.subplots()\n",
    "    cont = ax.contourf(X1, X2, predicted_labels, alpha=0.5, levels=np.linspace(0, 1, 11), cmap='coolwarm')\n",
    "    ax.set(xlabel='Scaled Temperature', ylabel='Scaled Pressure', title='Two-Layer NN: Phase Diagram')\n",
    "    plt.colorbar(cont, label='Phase Probability')\n",
    "    ax.grid()\n",
    "    plt.show()\n",
    "\n",
    "plot_results(predicted_labels)"
   ]
  },
  {
   "cell_type": "markdown",
   "metadata": {},
   "source": [
    "With just two layers and the sigmoid activation function, we're able to describe a wide range of relatively complex functions. You can play around with the weights and biases to get a feel for how the function behaves.\n",
    "\n",
    "## NNs with PyTorch\n",
    "\n",
    "In practice, you won't be coding your neural networks from scratch.\n",
    "Instead, you'll use libraries like PyTorch, TensorFlow, or JAX, which provide efficient implementations of neural network layers, optimizers, and other tools.\n",
    "In this course, we'll be using Pytorch, which is open-source machine learning library primarily developed by Facebook's AI Research lab (FAIR).\n",
    "\n",
    "Let's build the same model as before using PyTorch. We'll use the `Sequential` class  which builds a simple net where each layer is applied in sequence, with the output of each layer passed as input to the next layer.\n",
    "We'll make use of the `Linear` layer, where we must define the number of input features and output features. \n",
    "For example, `nn.Linear(2, 2)` creates a linear layer with 2 input features and 2 output features.\n",
    "The `Sigmoid` activation function is applied after each linear layer."
   ]
  },
  {
   "cell_type": "code",
   "execution_count": null,
   "metadata": {},
   "outputs": [],
   "source": [
    "import torch.nn as nn\n",
    "\n",
    "model = nn.Sequential(\n",
    "    nn.Linear(2, 2),\n",
    "    nn.Sigmoid(),\n",
    "    nn.Linear(2, 1),\n",
    "    nn.Sigmoid()\n",
    ")\n",
    "model"
   ]
  },
  {
   "cell_type": "markdown",
   "metadata": {},
   "source": [
    "Take a second to make sure you understand this code, and that you're happy with the numbers of inputs/outputs in each layer.\n",
    "\n",
    "As an example, we now use our model in place of the `neural_network` function we defined before. Note, we have to set the weights of the model to match what we used before. Normally we'd either load these from a file or find them through model training."
   ]
  },
  {
   "cell_type": "code",
   "execution_count": null,
   "metadata": {},
   "outputs": [],
   "source": [
    "import torch\n",
    "\n",
    "# set the model weights to the values we used before\n",
    "model.load_state_dict({\n",
    "    '0.weight': torch.tensor([[ 3.8430335, -3.17603404],\n",
    "                              [-0.5338159, -2.88928327]]),\n",
    "    '0.bias': torch.tensor([0, 0]),\n",
    "    '2.weight': torch.tensor([[-2.66952744,  3.82808745]]),\n",
    "    '2.bias': torch.tensor([0])\n",
    "})\n",
    "\n",
    "predicted_labels = [\n",
    "    model(torch.tensor(x, dtype=torch.float32))\n",
    "    for x in zip(X2.flat, X1.flat)\n",
    "]\n",
    "predicted_labels = torch.tensor(predicted_labels).reshape(n_points, n_points)\n",
    "\n",
    "plot_results(predicted_labels)"
   ]
  },
  {
   "cell_type": "markdown",
   "metadata": {},
   "source": [
    "The result is exactly the same as before, but now we are using a PyTorch model.\n",
    "\n",
    "## Image classification\n",
    "\n",
    "So far we only been working with simple toy models.\n",
    "In this section, we will see how to build a more complex model to classify images.\n",
    "We will use the Fashion-MNIST dataset, which is a collection of 28x28 grayscale images of 10 different classes of clothing items. The dataset is available in the `torchvision` package, which provides a collection of datasets and models for computer vision tasks.\n",
    "\n",
    "<img src=\"https://raw.githubusercontent.com/zalandoresearch/fashion-mnist/master/doc/img/fashion-mnist-sprite.png\" alt=\"Fashion MNIST\" width=\"500px\" >\n",
    "\n",
    "The classes of the dataset correspond to:\n",
    "\n",
    "| Index | Category      |\n",
    "|-------|---------------|\n",
    "| 0     | T-shirt/top   |\n",
    "| 1     | Trouser       |\n",
    "| 2     | Pullover      |\n",
    "| 3     | Dress         |\n",
    "| 4     | Coat          |\n",
    "| 5     | Sandal        |\n",
    "| 6     | Shirt         |\n",
    "| 7     | Sneaker       |\n",
    "| 8     | Bag           |\n",
    "| 9     | Ankle boot    |\n",
    "\n",
    "First let's download the dataset. It has already been split into the training and testing sets but we need to download them separately. Furthermore, the data is stored as pixels with values from 0 to 255. However, we need to normalise the data first so that the numbers vary from -1, 1. In general, normalisation is essential to ensure your model trains successfully.\n"
   ]
  },
  {
   "cell_type": "code",
   "execution_count": null,
   "metadata": {},
   "outputs": [],
   "source": [
    "from torchvision.datasets import FashionMNIST\n",
    "import torchvision.transforms as transforms\n",
    "\n",
    "transform = transforms.Compose([\n",
    "    transforms.ToTensor(),                # Convert image to PyTorch tensor\n",
    "    transforms.Normalize((0.5,), (0.5,))  # Normalize the image\n",
    "])\n",
    "\n",
    "train_data = FashionMNIST(root='./data', train=True, download=True, transform=transform)\n",
    "test_data = FashionMNIST(root='./data', train=False, download=True, transform=transform)\n",
    "\n",
    "# only load the first 5000 (train) and 1000 (test) images of each dataset\n",
    "train_data.data = train_data.data[:5000]\n",
    "train_data.targets = train_data.targets[:5000]\n",
    "\n",
    "# split the train data into a training and validation set\n",
    "train_data, val_data = torch.utils.data.random_split(train_data, [4000, 1000])\n",
    "\n",
    "test_data.data = test_data.data[:1000]\n",
    "test_data.targets = test_data.targets[:1000]\n",
    "\n",
    "classes = test_data.classes"
   ]
  },
  {
   "cell_type": "markdown",
   "metadata": {},
   "source": [
    "Confirm the dataset sizes:"
   ]
  },
  {
   "cell_type": "code",
   "execution_count": null,
   "metadata": {},
   "outputs": [],
   "source": [
    "print(\"Training set size:\", len(train_data))\n",
    "print(\"Validation set size:\", len(val_data))\n",
    "print(\"Test set size:\", len(test_data))"
   ]
  },
  {
   "cell_type": "markdown",
   "metadata": {},
   "source": [
    "Put the data into a DataLoader. This is a PyTorch class that helps with batching and shuffling data."
   ]
  },
  {
   "cell_type": "code",
   "execution_count": null,
   "metadata": {},
   "outputs": [],
   "source": [
    "from torch.utils.data import DataLoader\n",
    "\n",
    "train_dataloader = DataLoader(train_data, batch_size=4, shuffle=True)\n",
    "val_dataloader = DataLoader(val_data, batch_size=4, shuffle=False)\n",
    "test_dataloader = DataLoader(test_data, batch_size=4, shuffle=False)"
   ]
  },
  {
   "cell_type": "markdown",
   "metadata": {},
   "source": [
    "Lets plot a few images from the dataset:"
   ]
  },
  {
   "cell_type": "code",
   "execution_count": null,
   "metadata": {},
   "outputs": [],
   "source": [
    "from torchvision.utils import make_grid\n",
    "\n",
    "def imshow(img):\n",
    "    img = img / 2 + 0.5  # unnormalize\n",
    "    plt.imshow(img.permute(1, 2, 0))\n",
    "    plt.show()\n",
    "\n",
    "# get a batch of 4 images\n",
    "images, labels = next(iter(train_dataloader))\n",
    "\n",
    "imshow(make_grid(images))\n",
    "print(' '.join(classes[l] for l in labels))"
   ]
  },
  {
   "cell_type": "markdown",
   "metadata": {},
   "source": [
    "Now we can build our model. We'll again use the `Sequential` model from Pytorch.\n",
    "We'll make an MLP with 2 hidden layers with the ReLU activation function.\n",
    "The final layer will use a softmax function to get class probabilities."
   ]
  },
  {
   "cell_type": "code",
   "execution_count": null,
   "metadata": {},
   "outputs": [],
   "source": [
    "model = nn.Sequential(\n",
    "    nn.Flatten(),           # (N, 1, 28, 28) -> (N, 784)\n",
    "    nn.Linear(28*28, 256),  # (N, 784) -> (N, 256)\n",
    "    nn.ReLU(), \n",
    "    nn.Linear(256, 128),    # (N, 256) -> (N, 128)\n",
    "    nn.ReLU(),\n",
    "    nn.Linear(128, 10),     # (N, 128) -> (N, 10)\n",
    "    nn.LogSoftmax(dim=1)\n",
    ")\n",
    "\n",
    "model"
   ]
  },
  {
   "cell_type": "markdown",
   "metadata": {},
   "source": [
    "We can check the number of trainable parameters:"
   ]
  },
  {
   "cell_type": "code",
   "execution_count": null,
   "metadata": {},
   "outputs": [],
   "source": [
    "def count_parameters(model):\n",
    "    return sum(p.numel() for p in model.parameters() if p.requires_grad)\n",
    "\n",
    "print(f'The model has {count_parameters(model):,} trainable parameters')"
   ]
  },
  {
   "cell_type": "markdown",
   "metadata": {},
   "source": [
    "Next, we need to specify the loss function and optimiser:\n",
    "* **Loss function** — This measures how accurate the model is during training. You want to minimize this function to \"steer\" the model in the right direction. Here we use cross entropy loss.\n",
    "* **Optimiser** — This is how the model weights are updated based on the data it sees and its loss function. Here we use stochastic gradient descent. We have to pass the model parameters into the optimiser so it can update them."
   ]
  },
  {
   "cell_type": "code",
   "execution_count": null,
   "metadata": {},
   "outputs": [],
   "source": [
    "import torch.optim as optim\n",
    "\n",
    "criterion = nn.CrossEntropyLoss()\n",
    "optimizer = optim.SGD(model.parameters(), lr=0.001, momentum=0.9)"
   ]
  },
  {
   "cell_type": "markdown",
   "metadata": {},
   "source": [
    "Finally, we can train the model. Training a neural network involves iteratively updating its weights to minimize the loss function. This process is typically achieved using gradient descent optimization algorithms. Here's an in-depth explanation of the training loop:\n",
    "\n",
    "1. **Epochs**: An epoch represents one complete forward and backward pass of all the training examples. The number of epochs (num_epochs) is the number of times the learning algorithm will work through the entire training dataset. Usually a custom hyperparameter.\n",
    "\n",
    "1. **Model Training Mode**: Neural networks can operate in different modes - training and evaluation. Some layers, like dropout, behave differently in these modes. Setting the model to training mode ensures that layers like dropout function correctly.\n",
    "\n",
    "1. **Batch Processing**: Instead of updating weights after every training example (stochastic gradient descent) or after the entire dataset (batch gradient descent), we often update weights after a set of training examples known as a batch.\n",
    "\n",
    "1. **Zeroing Gradients**: In PyTorch, gradients accumulate by default. Before calculating the new gradients in the current batch, we need to set the previous gradients to zero.\n",
    "\n",
    "1. **Forward Pass**: The input data (images) are passed through the network, layer by layer, until we get the output. This process is called the forward pass.\n",
    "\n",
    "1. **Calculate Loss**: Once we have the network's predictions (outputs), we compare them to the true labels using a loss function. This gives a measure of how well the network's predictions match the actual labels.\n",
    "\n",
    "1. **Backward Pass**: To update the weights, we need to know the gradient of the loss function with respect to each weight. The backward pass computes these gradients.\n",
    "\n",
    "1. **Update Weights**: The optimizer updates the weights based on the gradients computed in the backward pass.\n",
    "\n",
    "This loop (forward pass, loss computation, backward pass, weight update) is repeated for every batch in the dataset, and the whole process is repeated for the specified number of epochs.\n",
    "\n",
    "At the same time, we also evaluate the performance of the model on the validation set at the end of each epoch."
   ]
  },
  {
   "cell_type": "code",
   "execution_count": null,
   "metadata": {},
   "outputs": [],
   "source": [
    "# Number of complete passes through the dataset\n",
    "num_epochs = 10\n",
    "\n",
    "# keep track of the loss for each epoch\n",
    "train_losses = []\n",
    "val_losses = []\n",
    "\n",
    "# Start the training loop\n",
    "for epoch in range(num_epochs):\n",
    "    # Set the model to training mode\n",
    "    model.train()\n",
    "\n",
    "    # Initialize a variable to keep track of the cumulative loss for this epoch\n",
    "    train_loss = 0.0\n",
    "    \n",
    "    # Iterate over each batch of the training data\n",
    "    for images, labels in train_dataloader:\n",
    "        # Clear the gradients from the previous iteration\n",
    "        optimizer.zero_grad()\n",
    "        \n",
    "        # Forward pass: Pass the images through the model to get the predicted outputs\n",
    "        outputs = model(images)\n",
    "        \n",
    "        # Compute the loss between the predicted outputs and the true labels\n",
    "        loss = criterion(outputs, labels)\n",
    "        \n",
    "        # Backward pass: Compute the gradient of the loss w.r.t. model parameters\n",
    "        loss.backward()\n",
    "        \n",
    "        # Update the model parameters\n",
    "        optimizer.step()\n",
    "\n",
    "        # Add the loss for this batch to the epoch loss\n",
    "        train_loss += loss.item()\n",
    "    \n",
    "    # Iterate over the validation data and compute the loss\n",
    "    model.eval()\n",
    "    val_loss = 0.0\n",
    "\n",
    "    # turn off gradients since we are in the evaluation mode\n",
    "    with torch.no_grad():\n",
    "        for images, labels in val_dataloader:\n",
    "            # Forward pass: Pass the images through the model to get the predicted outputs\n",
    "            outputs = model(images)\n",
    "\n",
    "            # Compute the loss between the predicted outputs and the true labels\n",
    "            loss = criterion(outputs, labels)\n",
    "\n",
    "            # Add the loss for this batch to the validation loss\n",
    "            val_loss += loss.item()\n",
    "\n",
    "    train_losses.append(train_loss/len(train_dataloader))\n",
    "    val_losses.append(val_loss/len(val_dataloader))\n",
    "    print(f\"Epoch [{epoch+1}/{num_epochs}], Train loss: {train_losses[-1]:.4f}, Val loss: {val_losses[-1]:.4f}\")"
   ]
  },
  {
   "cell_type": "markdown",
   "metadata": {},
   "source": [
    "We can plot the performance of the model as a function of epochs:"
   ]
  },
  {
   "cell_type": "code",
   "execution_count": null,
   "metadata": {},
   "outputs": [],
   "source": [
    "fig, ax = plt.subplots()\n",
    "ax.plot(train_losses, label=\"train\")\n",
    "ax.plot(val_losses, label=\"val\")\n",
    "ax.set(xlabel='Epoch', ylabel='Loss')\n",
    "ax.legend()\n",
    "plt.show()"
   ]
  },
  {
   "cell_type": "markdown",
   "metadata": {},
   "source": [
    "It looks like our train loss dropped rapidly at first and was still decreasing slowly. The validation loss also dropped at first but seems to have flattened out. This gives an indication that the model is beginning to overfit to the data.\n",
    "\n",
    "To check the performance of our model, we should look at the performance on the test set. Here, we don't want to compute the model gradients as we are no longer training, so we'll use `torch.no_grad()`.\n"
   ]
  },
  {
   "cell_type": "code",
   "execution_count": null,
   "metadata": {},
   "outputs": [],
   "source": [
    "# Test the model\n",
    "model.eval()\n",
    "\n",
    "correct = 0\n",
    "with torch.no_grad():\n",
    "    for images, labels in test_dataloader:\n",
    "        # Get the class probabilities\n",
    "        output = model(images)\n",
    "\n",
    "        # Get the class with the maximum probability as the predicted class\n",
    "        _, predicted = torch.max(output, 1)\n",
    "        \n",
    "        # Count the number of correct predictions\n",
    "        correct += (predicted == labels).sum().item()\n",
    "\n",
    "accuracy = correct / len(test_data)\n",
    "print(f\"Accuracy on the test set: {accuracy * 100:.2f}%\")"
   ]
  },
  {
   "cell_type": "markdown",
   "metadata": {},
   "source": [
    "Let's see what this looks like against the actual data:"
   ]
  },
  {
   "cell_type": "code",
   "execution_count": null,
   "metadata": {},
   "outputs": [],
   "source": [
    "images, labels = next(iter(test_dataloader))\n",
    "output = model(images)\n",
    "_, predicted = torch.max(output, 1)\n",
    "\n",
    "imshow(make_grid(images))\n",
    "print('GroundTruth: ', ' '.join(classes[l] for l in labels))\n",
    "print('Predicted: ', ' '.join(classes[p] for p in predicted))"
   ]
  },
  {
   "cell_type": "markdown",
   "metadata": {},
   "source": [
    "## Convolutional Neural Networks\n",
    "\n",
    "In the previous sequential model, the first layer is the flatten layer with shape 784 x 1 (28 x 28).\n",
    "This means that we lose information about how the image is structured.\n",
    "Convolutional neural networks (CNNs) are able to successfully capture the spatial and temporal dependencies in an image through the application of relevant filters. \n",
    "\n",
    "<img src=\"https://miro.medium.com/max/1400/1*ciDgQEjViWLnCbmX-EeSrA.gif\" width = \"80%\" />\n",
    "\n",
    "Neurons in the first convolutional layer are not connected to every single pixel in the input image, but only to pixels in their receptive fields. In turn, each neuron in the second convolutional layer is connected only to neurons located within a small square in the first layer. This architecture allows the network to concentrate on small low-level features in the first hidden layer, then assemble them into larger higher-level features in the next hidden layer, and so on.\n",
    "\n",
    "**Key building blocks of CNNs**\n",
    "\n",
    "A typical CNN architecture consists of:\n",
    "\n",
    "- **Convolutional Layers**: Apply convolution operation on the input layer to detect features.\n",
    "- **Activation Layers**: Introduce non-linearity to the model (typically ReLU).\n",
    "- **Pooling Layers**: Perform down-sampling operations to reduce dimensionality.\n",
    "- **Fully Connected Layers**: After several convolutional and pooling layers, the high-level reasoning in the neural network happens via fully connected layers.\n",
    "\n",
    "Here's an example:\n",
    "\n",
    "<img src=\"https://miro.medium.com/max/1400/1*uAeANQIOQPqWZnnuH-VEyw.jpeg\" width = \"80%\" />\n",
    "\n",
    "The key parameters to be aware of for the different layers are:\n",
    "\n",
    "**Conv2d**\n",
    "\n",
    "This layer applies a 2D convolution to the input tensor. For example, `nn.Conv2d(1, 32, 3)`:\n",
    "- The first argument is the number of input channels.\n",
    "- The second argument is the number of output channels. This represents the number of filters that are applied to the input tensor. Each filter can learn to detect different features in the input tensor.\n",
    "- The third argument is the kernel size (the size of the filter). E.g., above we use a kernel size of 3, which results in a 3x3 filter. \n",
    "The output tensor will have the specified number of output channels and the *size of the input tensor will be reduced by 2 in each dimension.\n",
    "\n",
    "**MaxPool2d**\n",
    "\n",
    "This layer applies 2D max pooling to the input tensor. For example, `nn.MaxPool2d(2)\n",
    "- The argument is the size of the filter that is applied to the input tensor. In this case, we are using a filter size of 2, which means that the filter will be a 2x2 filter. \n",
    "The output tensor will have the same number of channels as the input tensor and the *size of the input tensor will be reduced by half in each dimension*.\n",
    "\n",
    "Let's design a basic CNN for our dataset.\n"
   ]
  },
  {
   "cell_type": "code",
   "execution_count": null,
   "metadata": {},
   "outputs": [],
   "source": [
    "model = nn.Sequential(\n",
    "    nn.Conv2d(1, 32, 3),     # (N, 1, 28, 28) -> (N, 32, 26, 26)\n",
    "    nn.ReLU(),\n",
    "    nn.MaxPool2d(2),         # (N, 32, 26, 26) -> (N, 32, 13, 13)\n",
    "    nn.Conv2d(32, 64, 3),    # (N, 32, 13, 13) -> (N, 64, 11, 11)\n",
    "    nn.ReLU(),\n",
    "    nn.MaxPool2d(2),         # (N, 64, 11, 11) -> (N, 64, 5, 5)\n",
    "    nn.Flatten(),            # (N, 64, 5, 5) -> (N, 1600)\n",
    "    nn.Linear(64*5*5, 128),  # (N, 1600) -> (N, 128)\n",
    "    nn.ReLU(),               \n",
    "    nn.Linear(128, 10),      # (N, 128) -> (N, 10)\n",
    "    nn.LogSoftmax(dim=1)\n",
    ")\n",
    "print(model)\n",
    "print(f'The model has {count_parameters(model):,} trainable parameters')"
   ]
  },
  {
   "cell_type": "markdown",
   "metadata": {},
   "source": [
    "Now let's train the model, exactly the same as we did before:"
   ]
  },
  {
   "cell_type": "code",
   "execution_count": null,
   "metadata": {},
   "outputs": [],
   "source": [
    "# define the loss function and the optimizer\n",
    "criterion = nn.CrossEntropyLoss()\n",
    "optimizer = optim.SGD(model.parameters(), lr=0.001, momentum=0.9)\n",
    "\n",
    "num_epochs = 10\n",
    "train_losses = []\n",
    "val_losses = []\n",
    "\n",
    "for epoch in range(num_epochs):\n",
    "\n",
    "    # train the model\n",
    "    model.train()\n",
    "    train_loss = 0.0\n",
    "    for images, labels in train_dataloader:\n",
    "        optimizer.zero_grad()\n",
    "        outputs = model(images)\n",
    "        loss = criterion(outputs, labels)\n",
    "        loss.backward()\n",
    "        optimizer.step()\n",
    "        train_loss += loss.item()\n",
    "    \n",
    "    # evaluate the model\n",
    "    model.eval()\n",
    "    val_loss = 0.0\n",
    "    with torch.no_grad():\n",
    "        for images, labels in val_dataloader:\n",
    "            outputs = model(images)\n",
    "            loss = criterion(outputs, labels)\n",
    "            val_loss += loss.item()\n",
    "    \n",
    "    train_losses.append(train_loss/len(train_dataloader))\n",
    "    val_losses.append(val_loss/len(val_dataloader))\n",
    "    print(f\"Epoch [{epoch+1}/{num_epochs}], Train loss: {train_losses[-1]:.4f}, Val loss: {val_losses[-1]:.4f}\")"
   ]
  },
  {
   "cell_type": "markdown",
   "metadata": {},
   "source": [
    "Plot the training metrics:"
   ]
  },
  {
   "cell_type": "code",
   "execution_count": null,
   "metadata": {},
   "outputs": [],
   "source": [
    "fig, ax = plt.subplots()\n",
    "ax.plot(train_losses, label=\"train\")\n",
    "ax.plot(val_losses, label=\"val\")\n",
    "ax.set(xlabel='Epoch', ylabel='Loss')\n",
    "ax.legend()\n",
    "plt.show()"
   ]
  },
  {
   "cell_type": "markdown",
   "metadata": {},
   "source": [
    "And now evaluate the accuracy:"
   ]
  },
  {
   "cell_type": "code",
   "execution_count": null,
   "metadata": {},
   "outputs": [],
   "source": [
    "# Test the model\n",
    "model.eval()\n",
    "\n",
    "correct = 0\n",
    "with torch.no_grad():\n",
    "    for images, labels in test_dataloader:\n",
    "        # Get the class probabilities\n",
    "        output = model(images)\n",
    "\n",
    "        # Get the class with the maximum probability as the predicted class\n",
    "        _, predicted = torch.max(output, 1)\n",
    "        \n",
    "        # Count the number of correct predictions\n",
    "        correct += (predicted == labels).sum().item()\n",
    "\n",
    "accuracy = correct / len(test_data)\n",
    "print(f\"Accuracy on the test set: {accuracy * 100:.2f}%\")"
   ]
  },
  {
   "cell_type": "markdown",
   "metadata": {},
   "source": [
    "## In class challenge\n",
    "\n",
    "Since CNNs work better for more complex images, let's now build an image classifier with coloured pictures.\n",
    "\n",
    "We'll use the CIFAR-10 dataset, which consists of 32x32 colour images in 10 classes, with 6,000 images per class.\n",
    "Becaue the images are in colour (RGB), each image has 3 channels. The classes for the dataset are:\n",
    "    \n",
    "| Label | Description |\n",
    "|-------|-------------|\n",
    "| 0     | airplane    |\n",
    "| 1     | automobile  |\n",
    "| 2     | bird        |\n",
    "| 3     | cat         |\n",
    "| 4     | deer        |\n",
    "| 5     | dog         |\n",
    "| 6     | frog        |\n",
    "| 7     | horse       |\n",
    "| 8     | ship        |\n",
    "| 9     | truck       |\n",
    "\n",
    "\n",
    "We'll first load the dataset and only use the first 5000 images for training and the first 1000 images for testing.\n"
   ]
  },
  {
   "cell_type": "code",
   "execution_count": null,
   "metadata": {},
   "outputs": [],
   "source": [
    "from torchvision.datasets import CIFAR10\n",
    "\n",
    "transform = transforms.Compose([\n",
    "    transforms.ToTensor(),\n",
    "    transforms.Normalize((0.5, 0.5, 0.5), (0.5, 0.5, 0.5))\n",
    "])\n",
    "\n",
    "train_data = CIFAR10(root='./data', train=True, download=True, transform=transform)\n",
    "test_data = CIFAR10(root='./data', train=False, download=True, transform=transform)\n",
    "\n",
    "# only load the first 5000 (train) and 1000 (test) images of each dataset\n",
    "train_data.data = train_data.data[:5000]\n",
    "train_data.targets = train_data.targets[:5000]\n",
    "\n",
    "# split the train data into a training and validation set\n",
    "train_data, val_data = torch.utils.data.random_split(train_data, [4000, 1000])\n",
    "\n",
    "test_data.data = test_data.data[:1000]\n",
    "test_data.targets = test_data.targets[:1000]\n",
    "\n",
    "classes = test_data.classes\n",
    "\n",
    "# create data loaders\n",
    "train_dataloader = DataLoader(train_data, batch_size=4, shuffle=True)\n",
    "val_dataloader = DataLoader(val_data, batch_size=4, shuffle=False)\n",
    "test_dataloader = DataLoader(test_data, batch_size=4, shuffle=False)\n",
    "\n",
    "print(\"Training set size:\", len(train_data))\n",
    "print(\"Validation set size:\", len(val_data))\n",
    "print(\"Test set size:\", len(test_data))"
   ]
  },
  {
   "cell_type": "markdown",
   "metadata": {},
   "source": [
    "Plot the first 4 images of the training set and their labels."
   ]
  },
  {
   "cell_type": "code",
   "execution_count": null,
   "metadata": {},
   "outputs": [],
   "source": [
    "images, labels = next(iter(train_dataloader))\n",
    "imshow(make_grid(images))\n",
    "print(\" \".join(classes[l] for l in labels))"
   ]
  },
  {
   "cell_type": "code",
   "execution_count": null,
   "metadata": {},
   "outputs": [],
   "source": [
    "# 3, 2, 1, code!\n",
    "# remeber to change the input shape and number of channels in your first and linear layers\n"
   ]
  },
  {
   "cell_type": "markdown",
   "metadata": {
    "id": "DIia0_h9ciGa"
   },
   "source": [
    "\n",
    "<details>\n",
    "<summary> Answer </summary>\n",
    "The following model can be used. The only changes from the previous model is that the number of input\n",
    "channels for the first convolution has been changed from 1 to 3, and the input size of the linear layer has been changed to 2304. The second change is required since the images have different initial dimensions. Following the pooling and convolution operations through gives you this final answer.\n",
    "\n",
    "```python\n",
    "model = nn.Sequential(\n",
    "    nn.Conv2d(3, 32, 3),     # (N, 3, 32, 32) -> (N, 32, 30, 30)\n",
    "    nn.ReLU(),\n",
    "    nn.MaxPool2d(2),         # (N, 32, 30, 30) -> (N, 32, 15, 15)\n",
    "    nn.Conv2d(32, 64, 3),    # (N, 32, 13, 13) -> (N, 64, 13, 13)\n",
    "    nn.ReLU(),\n",
    "    nn.MaxPool2d(2),         # (N, 64, 13, 13) -> (N, 64, 6, 6)\n",
    "    nn.Flatten(),            # (N, 64, 6, 6) -> (N, 2304)\n",
    "    nn.Linear(64*6*6, 128),  # (N, 2304) -> (N, 128)\n",
    "    nn.ReLU(),               \n",
    "    nn.Linear(128, 10),      # (N, 128) -> (N, 10)\n",
    "    nn.LogSoftmax(dim=1)\n",
    ")\n",
    "```\n",
    "\n",
    "The rest of the training and evaluation code can be used as before.\n",
    "</details>\n",
    "\n",
    "## Features of molecules and materials\n",
    "\n",
    "For chemical problems, we often need to work with molecular or crystal structures.\n",
    "These structures can be represented in many ways, such as SMILES strings, molecular graphs, or 3D coordinates.\n",
    "However, these representations are not directly usable by neural networks.\n",
    "Instead, we need to extract features that can be used as input to a neural network.\n",
    "This process is called featurization.\n",
    "\n",
    "**Molecules**\n",
    "\n",
    "Simplified molecular-input line-entry system (SMILES) are a way of representing molecules as text. For example:\n",
    "\n",
    "CH3−N=C=O `CN=C=O`\n",
    "\n",
    "Cu<sup>2+</sup>SO<sub>2</sub><sup>−</sup> `[Cu+2].[O-]S(=O)(=O)[O-]`\n",
    "\n",
    "<img src=\"https://upload.wikimedia.org/wikipedia/commons/thumb/7/70/Nicotine.svg/160px-Nicotine.svg.png\" alt=\"MOL1\" width=\"10%\" style=\"float: center; margin-left: 0%;\"/> `CN1CCC[C@H]1c2cccnc2`\n",
    "\n",
    "<img src=\"https://upload.wikimedia.org/wikipedia/commons/thumb/f/f0/Thiamin.svg/300px-Thiamin.svg.png\" alt=\"MOL2\" width=\"20%\" style=\"float: center; margin-left: 0%;\"/> `OCCc1c(C)[n+](cs1)Cc2cnc(C)nc2N`\n",
    "\n",
    "We can generate molecular fingerprints (features) from these SMILES strings using the RDKit library. For example, using [Morgan fingerprints](https://www.rdkit.org/docs/GettingStartedInPython.html#morgan-fingerprints-circular-fingerprints),\n",
    "a populator method to turn molecules of any shape into fixed-length vectors.\n",
    "\n",
    "Let's use caffeine as an example (`CN1C=NC2=C1C(=O)N(C(=O)N2C)C`). First, we create a molecule object from the SMILES string:"
   ]
  },
  {
   "cell_type": "code",
   "execution_count": null,
   "metadata": {},
   "outputs": [],
   "source": [
    "from rdkit.Chem import MolFromSmiles\n",
    "\n",
    "mol = MolFromSmiles('CN1C=NC2=C1C(=O)N(C(=O)N2C)C')\n",
    "mol"
   ]
  },
  {
   "cell_type": "markdown",
   "metadata": {},
   "source": [
    "Next, we can generate the [morgan fingerprint](https://www.rdkit.org/docs/GettingStartedInPython.html#morgan-fingerprints-circular-fingerprints) and the [RDKit fingerprint](https://www.rdkit.org/docs/GettingStartedInPython.html#rdkit-fingerprints):"
   ]
  },
  {
   "cell_type": "code",
   "execution_count": null,
   "metadata": {},
   "outputs": [],
   "source": [
    "from rdkit.Chem import rdFingerprintGenerator\n",
    "\n",
    "# Morgan Fingerprint\n",
    "morgan_gen = rdFingerprintGenerator.GetMorganGenerator(radius=4)\n",
    "morgan_fp = morgan_gen.GetFingerprint(mol)\n",
    "morgan_fp_np = np.array(morgan_fp)\n",
    "print(\"Morgan Fingerprint:\", morgan_fp_np, \"Shape:\", morgan_fp_np.shape)\n",
    "\n",
    "# RDK Fingerprint\n",
    "rdkit_gen = rdFingerprintGenerator.GetRDKitFPGenerator()\n",
    "rdkit_fp = rdkit_gen.GetFingerprint(mol)\n",
    "rdkit_fp_np = np.array(rdkit_fp)\n",
    "print(\"RDK Fingerprint:\", rdkit_fp_np, \"Shape:\", rdkit_fp_np.shape)\n"
   ]
  },
  {
   "cell_type": "markdown",
   "metadata": {},
   "source": [
    "**Crystals**\n",
    "\n",
    "Features for crystal structures and compositions can be generated using the `matminer` library. \n",
    "Here is an example of how to generate elemental features for a composition, specifically the Magpie elemental features.\n",
    "\n",
    "First, we create a `Composition` object using the `pymatgen` library:\n",
    "\n",
    "\n"
   ]
  },
  {
   "cell_type": "code",
   "execution_count": null,
   "metadata": {},
   "outputs": [],
   "source": [
    "from pymatgen.core import Composition\n",
    "\n",
    "comp = Composition(\"Fe2O3\")\n",
    "comp"
   ]
  },
  {
   "cell_type": "markdown",
   "metadata": {},
   "source": [
    "Next, we can generate the features using matminer."
   ]
  },
  {
   "cell_type": "code",
   "execution_count": null,
   "metadata": {},
   "outputs": [],
   "source": [
    "from matminer.featurizers.composition import ElementProperty\n",
    "\n",
    "magpie_gen = ElementProperty.from_preset(preset_name=\"magpie\")\n",
    "magpie_fp = np.array(magpie_gen.featurize(comp))\n",
    "\n",
    "print(\"Magpie Features:\", magpie_fp.round(2).tolist(), \"Shape:\", magpie_fp.shape)\n",
    "print(\"Magpie Feature Names:\", magpie_gen.feature_labels()) \n"
   ]
  },
  {
   "cell_type": "markdown",
   "metadata": {},
   "source": [
    "We can also generate structures for crystal structures, starting from a `pymatgen` `Structure` object:"
   ]
  },
  {
   "cell_type": "code",
   "execution_count": null,
   "metadata": {},
   "outputs": [],
   "source": [
    "from pymatgen.core import Structure\n",
    "\n",
    "structure = Structure.from_spacegroup(\n",
    "    sg='Fm-3m',\n",
    "    species=['Na+', 'Cl-'],\n",
    "    lattice=[[5.64, 0, 0], [0, 5.64, 0], [0, 0, 5.64]],\n",
    "    coords=[[0, 0, 0], [0.5, 0.5, 0.5]]\n",
    ")\n",
    "structure"
   ]
  },
  {
   "cell_type": "markdown",
   "metadata": {},
   "source": [
    "Next, we generate the site stats fingerprint which summarises the different coordination environments in the structure:"
   ]
  },
  {
   "cell_type": "code",
   "execution_count": null,
   "metadata": {},
   "outputs": [],
   "source": [
    "from matminer.featurizers.structure import SiteStatsFingerprint\n",
    "\n",
    "ssf_gen = SiteStatsFingerprint.from_preset(\"CrystalNNFingerprint_ops\")\n",
    "ssf_fp = np.array(ssf_gen.featurize(structure))\n",
    "\n",
    "print(\"Structure Features:\", ssf_fp, \"Shape:\", ssf_fp.shape)\n",
    "print(\"Structure Feature Names:\", ssf_gen.feature_labels()) "
   ]
  },
  {
   "cell_type": "markdown",
   "metadata": {},
   "source": [
    "Many more options are available. See the [matminer documentation](https://hackingmaterials.lbl.gov/matminer/featurizer_summary.html) for more details."
   ]
  },
  {
   "cell_type": "markdown",
   "metadata": {
    "id": "BZfqPL6zifCa",
    "tags": []
   },
   "source": [
    "## Additional reading\n",
    "\n",
    "- This notebook can be complimented with Chapters 3 and 4 of [Understanding Deep Learning](https://udlbook.github.io/udlbook/) for more comprehensive to introduction to neural networks.\n",
    "- The videos on [neural networks by 3Brown1Blue](https://www.3blue1brown.com/topics/neural-networks) can also help develop a more intuitive understanding."
   ]
  }
 ],
 "metadata": {
  "colab": {
   "provenance": [],
   "toc_visible": true
  },
  "kernelspec": {
   "display_name": "py3",
   "language": "python",
   "name": "python3"
  },
  "language_info": {
   "codemirror_mode": {
    "name": "ipython",
    "version": 3
   },
   "file_extension": ".py",
   "mimetype": "text/x-python",
   "name": "python",
   "nbconvert_exporter": "python",
   "pygments_lexer": "ipython3",
   "version": "3.10.13"
  }
 },
 "nbformat": 4,
 "nbformat_minor": 4
}
