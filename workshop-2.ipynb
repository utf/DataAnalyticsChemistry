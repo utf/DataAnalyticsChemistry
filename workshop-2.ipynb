{
 "cells": [
  {
   "cell_type": "markdown",
   "metadata": {
    "id": "aB6tYmdQciGS",
    "tags": []
   },
   "source": [
    "# 2. Supervised Learning\n",
    "\n",
    "Taught by: Dat Doan, Alex Ganose\n",
    "\n",
    "## Getting started\n",
    "\n",
    "Welcome to the second practical session! As always, the notebook is designed to be run online directly in your browser by clicking the rocket icon on the top right and selecting `Live Code`.\n",
    "\n",
    "## Outline\n",
    "\n",
    "This workshop will cover the following content:\n",
    "\n",
    "1. Decision trees for classification\n",
    "1. Decision trees for regression\n",
    "1. Ensemble learning – bagging and random forests\n",
    "1. Model evaluation and training protocols\n",
    "1. Hyperparameter optimisation\n",
    "1. Task: Classifying metallicity \n",
    "\n",
    "## Decision trees – classification\n",
    "\n",
    "Decision trees are a simple yet versatile algorithm that can be used for both classification and regression. They are a fundamental component of ensemble methods such as random forests and gradient boosted trees.\n",
    "\n",
    "**Pros**\n",
    "- Don't require much data preparation.\n",
    "- Make few assumptions about the training data.\n",
    "- Easy to interpret and visualise.\n",
    "- Predictions are fast.\n",
    "\n",
    "**Cons**\n",
    "- Default training algorithmm (CART) is greedy. It preduces a solution that is reasonably good but is not guaranteed to be the optimal solution (finding this is intractable even for small datasets).\n",
    "- Very sensitive to dataset variations – small details lead to large changes in the model.\n",
    "- They struggle to describe linear functions well.\n",
    "\n",
    "You can find more details about the decision trees on the excellent [scikit-learn documentation](https://scikit-learn.org/stable/modules/tree.html).\n",
    "\n",
    "\n",
    "We'll start with the iris dataset from scikit-learn that we used in Workshop 1. As a reminder, this dataset contains 150 samples of iris flowers, each with four features. The target variable is the species of iris, which can be one of three possible values: setosa, versicolor, or virginica (given as integers 0, 1, and 2, respectively).\n",
    "\n",
    "<img src=\"https://github.com/rasbt/python-machine-learning-book-2nd-edition/blob/master/code/ch01/images/01_08.png?raw=true\" alt=\"3 different iris flowers\" width=\"300 px\">\n",
    "<img src=\"https://www.embedded-robotics.com/wp-content/uploads/2022/01/Iris-Dataset-Classification.png\" alt=\"3 different iris flowers\" width=\"400 px\">\n",
    "\n",
    "First, we load the dataset and create a pandas DataFrame object."
   ]
  },
  {
   "cell_type": "code",
   "execution_count": null,
   "metadata": {},
   "outputs": [],
   "source": [
    "import pandas as pd\n",
    "import numpy as np\n",
    "from sklearn.datasets import load_iris\n",
    "\n",
    "np.random.seed(42)  # use a consistent seed for reproducibility\n",
    "\n",
    "iris = load_iris()\n",
    "df = pd.DataFrame(\n",
    "    data=np.c_[iris['data'], iris['target']],\n",
    "    columns=iris['feature_names'] + ['target'],\n",
    ")\n",
    "df.target = df.target.astype(int)\n",
    "df"
   ]
  },
  {
   "cell_type": "markdown",
   "metadata": {},
   "source": [
    "We'll now perform multivariate classification using a decision tree. We'll use the scikit-learn library to train the model and evaluate its performance.\n",
    "\n",
    "Let's train the model with two features, the petal length and petal width. We'll use a tree with a max depth of 3."
   ]
  },
  {
   "cell_type": "code",
   "execution_count": null,
   "metadata": {},
   "outputs": [],
   "source": [
    "from sklearn.tree import DecisionTreeClassifier\n",
    "\n",
    "features = [\"petal length (cm)\", \"petal width (cm)\"]\n",
    "\n",
    "X = df[features].values\n",
    "y = df.target.values\n",
    "\n",
    "model = DecisionTreeClassifier(max_depth=3, random_state=42)\n",
    "model.fit(  )"
   ]
  },
  {
   "cell_type": "markdown",
   "metadata": {},
   "source": [
    "<details>\n",
    "<summary> Code hint </summary>\n",
    "As with all scikit-learn models, you'll need to pass the feature matrix <code>X</code> and target class <code>y</code> to the <code>fit</code> function.\n",
    "</details>\n",
    "\n",
    "We can plot the decision tree using a nice utility function from scikit-learn."
   ]
  },
  {
   "cell_type": "code",
   "execution_count": null,
   "metadata": {},
   "outputs": [],
   "source": [
    "from sklearn.tree import plot_tree\n",
    "import matplotlib.pyplot as plt\n",
    "\n",
    "plt.figure(figsize=(10, 8))\n",
    "plot_tree(\n",
    "    model,\n",
    "    feature_names=features,\n",
    "    class_names=iris.target_names,\n",
    "    filled=True,\n",
    ")\n",
    "plt.show()"
   ]
  },
  {
   "cell_type": "markdown",
   "metadata": {},
   "source": [
    "Each white box represents a binary question (i.e. it can either be true or false). Each coloured box represents a leaf node which gives the final classification. \n",
    "\n",
    "The \"gini\" values describe the to Gini impurity, defined as\n",
    "\n",
    "$$\n",
    "G_i = 1 - \\sum_{k=1}^{K}{{p_{i,k}}^2},\n",
    "$$\n",
    "\n",
    "where $p_{i,k}$ is the ratio of class $k$ instances among the training instances in the $i$-th node, and $K$ is the total number of classes (in this case 3). A \"pure\" node (`gini=0`) indicates all training instances it applies to belong to the same class.\n",
    "\n",
    "For example, the depth-2 green node (versicolor) has a `gini` score equal to \n",
    "\n",
    "$$\n",
    "1- \\left(\\frac{0}{54}\\right)^2 - \\left(\\frac{49}{54}\\right)^2 - \\left(\\frac{5}{54}\\right)^2 \\approx 0.168\n",
    "$$\n",
    "\n",
    "You can see that these numbers correspond to the `value` list which give the number of samples of each class considered by the node.\n",
    "\n",
    "We can use the `DecisionBoundaryDisplay` class to plot the descision boundaries."
   ]
  },
  {
   "cell_type": "code",
   "execution_count": null,
   "metadata": {},
   "outputs": [],
   "source": [
    "from sklearn.inspection import DecisionBoundaryDisplay\n",
    "\n",
    "fig, ax = plt.subplots()\n",
    "display = DecisionBoundaryDisplay.from_estimator(\n",
    "    model, \n",
    "    X, \n",
    "    alpha=0.3,\n",
    "    plot_method=\"pcolormesh\",\n",
    "    ax=ax,\n",
    "    xlabel=features[0],\n",
    "    ylabel=features[1],\n",
    ")\n",
    "scatter = ax.scatter(*X.T, c=iris.target, edgecolor=\"k\")\n",
    "ax.legend(scatter.legend_elements()[0], iris.target_names, loc=\"upper left\")\n",
    "ax.set(xlim=(0, 7.5), ylim=(0, 3))\n",
    "\n",
    "# plot the decision boundary labels\n",
    "ax.plot([2.45, 2.45], [0, 3], \"k\")\n",
    "ax.plot([2.45, 7.5], [1.75, 1.75], 'k--')\n",
    "ax.plot([4.95, 4.95], [0, 1.75], 'k:')\n",
    "ax.plot([4.85, 4.85], [1.75, 3], 'k:')\n",
    "ax.text(1.20, 1.0, 'Depth = 0')\n",
    "ax.text(3.2, 1.80, 'Depth = 1')\n",
    "ax.text(3.8, 0.5, 'Depth = 2')\n",
    "\n",
    "plt.show()"
   ]
  },
  {
   "cell_type": "markdown",
   "metadata": {},
   "source": [
    "When making a prediction, you start at the top of the tree (the root node) and progress down the tree by answering the questions in each descision node. For example, the root node asks the question \"is the petal length smaller than 2.45 cm?\"\n",
    "\n",
    "The probability of each class is estimated by returning the ratio of training instances of class $k$ in this node.\n",
    "\n",
    "Consider an example flower with a petal length of 5 cm and a petal width of 1.5 cm.\n",
    "Following the tree or decision boundary plots shown above:\n",
    "- The petal length is greater than 2.45 cm, therefore we take the right route at depth 0.\n",
    "- The petal with is less than 1.75 cm, therefore we take the left route at depth 1.\n",
    "- Finally, the the petal length is greater than 4.95 cm and we take the right route at depth 2.\n",
    "- This gives a final class prediction of virginica.\n",
    "\n",
    "The corresponding leaf node is the depth-3 second-from-the-left node (with samples=6), so the Decision Tree should output the following probabilities: 0% for Iris setosa (0/6), 33.33% for Iris versicolor (2/6), and 66.66% for Iris virginica (4/6).\n",
    "\n",
    "We can check this directly using the model. First lets predict the most likely class of our flower."
   ]
  },
  {
   "cell_type": "code",
   "execution_count": null,
   "metadata": {},
   "outputs": [],
   "source": [
    "X_new = [[   ]]  # a new data point with petal length 5 and petal width 1.5\n",
    "model.predict(X_new)"
   ]
  },
  {
   "cell_type": "markdown",
   "metadata": {},
   "source": [
    "<details>\n",
    "<summary> Code hint </summary>\n",
    "You need to add the features to <code>X_new</code>. For example, <code>X_new = [[5, 1.5]]</code>\n",
    "</details>\n",
    "\n",
    "We can understand the probability of each class by using the `predict_proba` method. This method returns the probability of each class for a given input data point. The sum of the probabilities of all classes is equal to 1."
   ]
  },
  {
   "cell_type": "code",
   "execution_count": null,
   "metadata": {},
   "outputs": [],
   "source": [
    "model.predict_proba(X_new)"
   ]
  },
  {
   "cell_type": "markdown",
   "metadata": {},
   "source": [
    "**Classification metrics**\n",
    "\n",
    "We can assess the classification performance using a number of metrics such as log loss, accuracy, precision, etc. We can also use the confusion matrix to see the number of true positives, true negatives, false positives, and false negatives.\n",
    "\n",
    "To start with, we can plot the confusion matrix using the `ConfusionMatrixDisplay` class from scikit-learn."
   ]
  },
  {
   "cell_type": "code",
   "execution_count": null,
   "metadata": {},
   "outputs": [],
   "source": [
    "from sklearn.metrics import ConfusionMatrixDisplay\n",
    "\n",
    "ConfusionMatrixDisplay.from_estimator(\n",
    "    ,\n",
    "    X,\n",
    "    y, \n",
    "    display_labels=iris.target_names, \n",
    "    cmap=\"Blues\"\n",
    ")\n",
    "plt.show()"
   ]
  },
  {
   "cell_type": "markdown",
   "metadata": {},
   "source": [
    "It looks like we made a mistake with the `ConfusionMatrixDisplay.from_estimator` function. \n",
    "\n",
    "If you add a `?` after the function name you can generate the docstring for the function. Can you spot the mistake?\n",
    "\n",
    "<details>\n",
    "<summary> Code hint </summary>\n",
    "We need to add our <code>model</code> instance as the first argument to the function.\n",
    "</details>\n",
    "\n",
    "We can see that the decision tree does a good job of classifying the iris dataset.\n",
    "There are only a few misclassifications. 3 flowers are misclassified as virginica when they are in fact veriscolor. While 1 flower is classified as versicolor when it is in fact virginica.\n",
    "\n",
    "While the confusion matrix is a human interpretable way to understand the performance of a classifier, it is not a good way to compare the performance of different classifiers.\n",
    "For this, we can use metrics that condense the performance into a single number.\n",
    "\n",
    "We already explored the log loss metric in the last workshop. But as a reminder, it is a metric that penalizes classifiers that are confident about the wrong class.\n",
    "Log loss is defined as:\n",
    "\n",
    "$$\n",
    "\\text{Log loss} = -\\frac{1}{N}\\sum_{i=1}^{N}\\sum_{k=1}^{K}y_{i,k}\\log(p_{i,k})\n",
    "$$\n",
    "\n",
    "Where $N$ is the total number of samples, $K$ is the total number of classes, $y_{i,k} = 1$ if sample $i$ has label $k$ or 0 otherwise. The model predictions $p_{i,k}$ are the predicted probabilities of the sample $i$ being in class $k$.\n",
    "\n",
    "Let's calculate the log_loss for our model now.\n",
    "\n"
   ]
  },
  {
   "cell_type": "code",
   "execution_count": null,
   "metadata": {},
   "outputs": [],
   "source": [
    "from sklearn.metrics import log_loss\n",
    "\n",
    "y_pred = model.predict_proba(X)\n",
    "log_loss(y, y_pred)"
   ]
  },
  {
   "cell_type": "markdown",
   "metadata": {},
   "source": [
    "<details>\n",
    "<summary> Code hint </summary>\n",
    "We need to add the arguments <code>y</code> and <code>y_pred</code> to the <code>log_loss</code> function.\n",
    "</details>\n",
    "\n",
    "We can see that the log loss is very small. This is because the model is able to predict the classes with reliability. \n",
    "\n",
    "While log loss is a very useful metric for training and evaluating models, especially neural networks, it is not easy to understand for humans. Here we can use the accuracy, precision, recall, and F1 score to evaluate the model's performance. These are defined as follows (remember that TP, TN, FP, and FN stand for true positive, true negative, false positive, and false negative, respectively):\n",
    "\n",
    "- Accuracy: the fraction of correct predictions among all predictions $ = (\\text{TP} + \\text{TN}) / (\\text{TP} + \\text{TN} + \\text{FP} + \\text{FN})$\n",
    "- Precision: the fraction of true positive predictions among all positive predictions $ = \\text{TP} / (\\text{TP} + \\text{FP})$\n",
    "- Recall: the fraction of true positive predictions among all actual positive instances $ = \\text{TP} / (\\text{TP} + \\text{FN})$\n",
    "- F1 score: the harmonic mean of precision and recall - $= 2 * (\\text{Precision} * \\text{Recall}) / (\\text{Precision} + \\text{Recall})$\n",
    "\n",
    "We can calculate these easily using scikit-learn.\n"
   ]
  },
  {
   "cell_type": "code",
   "execution_count": null,
   "metadata": {},
   "outputs": [],
   "source": [
    "from sklearn.metrics import accuracy_score, precision_score, recall_score, f1_score\n",
    "\n",
    "y_pred = model.predict(X)\n",
    "\n",
    "# we can use the `average` parameter to compute the weighted average\n",
    "# since we have a multi-class classification problem\n",
    "accuracy = accuracy_score(y, y_pred)\n",
    "precision = precision_score(y, y_pred, average=\"weighted\")\n",
    "recall = recall_score(y, y_pred, average=\"weighted\")\n",
    "f1 = f1_score(y, y_pred, average=\"weighted\")\n",
    "\n",
    "print(f\"Accuracy: {accuracy:.3f}\")\n",
    "print(f\"Precision: {precision:.3f}\")\n",
    "print(f\"Recall: {recall:.3f}\")\n",
    "print(f\"F1: {f1:.3f}\")"
   ]
  },
  {
   "cell_type": "markdown",
   "metadata": {},
   "source": [
    "## Decision trees – regression\n",
    "\n",
    "While decision trees are often used for classification, they can also be used for regression.\n",
    "In this case, the decision tree is used to predict a continuous target variable.\n",
    "The decision tree works in the same way as for classification, but the splitting criterion is different.\n",
    "Instead of using the Gini impurity, the decision tree uses the mean squared error (MSE) to determine the best split.\n",
    "\n",
    "Let's try this out on some noisy polynomial data.\n",
    "    "
   ]
  },
  {
   "cell_type": "code",
   "execution_count": null,
   "metadata": {},
   "outputs": [],
   "source": [
    "num_points = \n",
    "\n",
    "x = 6 * np.random.rand(num_points) - 3\n",
    "y = 3 * x ** 2 + np.random.randn(num_points)\n",
    "\n",
    "fig, ax = plt.subplots()\n",
    "ax.scatter(x, y)\n",
    "ax.set(xlabel='$x$', ylabel=\"$y$\")\n",
    "plt.show()"
   ]
  },
  {
   "cell_type": "markdown",
   "metadata": {},
   "source": [
    "<details>\n",
    "<summary> Code hint </summary>\n",
    "You need to choose the number of points. 50 should be fine, but you have the power to decide.\n",
    "</details>\n",
    "\n",
    "We can now train a `DecisionTreeRegressor` on our data."
   ]
  },
  {
   "cell_type": "code",
   "execution_count": null,
   "metadata": {},
   "outputs": [],
   "source": [
    "from sklearn.tree import DecisionTreeRegressor\n",
    "\n",
    "X = x.reshape(-1, 1)  # reshape to a 2D array for scikit-learn\n",
    "\n",
    "model = DecisionTreeRegressor(max_depth=2)\n",
    "model.fit(X, y)"
   ]
  },
  {
   "cell_type": "markdown",
   "metadata": {},
   "source": [
    "Similarly to the classification problem we saw before, we can plot the tree to see what it learned."
   ]
  },
  {
   "cell_type": "code",
   "execution_count": null,
   "metadata": {},
   "outputs": [],
   "source": [
    "plt.figure(figsize=(12, 6))\n",
    "plot_tree(\n",
    "    model,\n",
    "    feature_names=['x'],\n",
    "    filled=True,\n",
    ")\n",
    "plt.show()"
   ]
  },
  {
   "cell_type": "markdown",
   "metadata": {},
   "source": [
    "We can see a visual representation of this by plotting the decision tree across the range of the data.\n"
   ]
  },
  {
   "cell_type": "code",
   "execution_count": null,
   "metadata": {},
   "outputs": [],
   "source": [
    "X_new = np.linspace(-3, 3, 1000).reshape(-1, 1)\n",
    "y_new = model.predict(X_new)\n",
    "\n",
    "fig, ax = plt.subplots()\n",
    "ax.plot(X_new, y_new, label=\"decision tree\", color=\"red\")\n",
    "ax.scatter(x, y)\n",
    "ax.set(xlabel='$x$', ylabel=\"$y$\")\n",
    "ax.legend()\n",
    "plt.show()"
   ]
  },
  {
   "cell_type": "markdown",
   "metadata": {},
   "source": [
    "You can see a classic limitation of decision trees. They are only able to predict continuous functions in horizontal segments. This is a consequence of the depth of the tree and the other hyperparameters.\n",
    "\n",
    "**Mini Task: Impact of max depth**\n",
    "\n",
    "\n",
    "In the cell below, you play around with the max depth parameter. Try training a series of `DecisionTreeRegressors` and plotting their performance across the function domain. What happens when you set the max depth to 3, 5, or 10.\n"
   ]
  },
  {
   "cell_type": "code",
   "execution_count": 14,
   "metadata": {},
   "outputs": [],
   "source": [
    "# Use this cell to experiment with different depths\n",
    "# What happens when you set the max depth to 1, 3 or 10\n",
    "\n"
   ]
  },
  {
   "cell_type": "markdown",
   "metadata": {},
   "source": [
    "<details>\n",
    "<summary> Code hint </summary>\n",
    "\n",
    "The code below will create, train, and plot the performance of the decision tree.\n",
    "\n",
    "```python\n",
    "model1 = DecisionTreeRegressor(max_depth=1)\n",
    "model3 = DecisionTreeRegressor(max_depth=3)\n",
    "model10 = DecisionTreeRegressor(max_depth=10)\n",
    "\n",
    "model1.fit(X, y)\n",
    "model3.fit(X, y)\n",
    "model10.fit(X, y)\n",
    "\n",
    "y_new1 = model1.predict(X_new)\n",
    "y_new3 = model3.predict(X_new)\n",
    "y_new10 = model10.predict(X_new)\n",
    "\n",
    "fig, ax = plt.subplots()\n",
    "ax.plot(X_new, y_new1, label=\"max_depth=1\", color=\"red\")\n",
    "ax.plot(X_new, y_new3, label=\"max_depth=3\", color=\"green\")\n",
    "ax.plot(X_new, y_new10, label=\"max_depth=10\", color=\"orange\")\n",
    "ax.scatter(x, y)\n",
    "ax.set(xlabel='$x$', ylabel=\"$y$\")\n",
    "ax.legend()\n",
    "plt.show()\n",
    "```\n",
    "</details>\n",
    "\n",
    "## Ensemble methods\n",
    "\n",
    "Ensemble learning uses the principle that aggregating multiple predictions of a group of models often gives better predictions than just the best individual model (wisdom of the crowd).\n",
    "\n",
    "One approach to ensemble methods is bagging which stands for bootstrap aggregating.\n",
    "- Bootstrap: Randomly sampling the training data with replacement (i.e, we can select the same data point multiple times).\n",
    "- Aggregating: Combining the predictions of multiple models, either by averaging (regression) or by taking the majority vote (classification).\n",
    "\n",
    "One issue with naive bagging is that the models are highly correlated with each other. \n",
    "To address this, we can introduce additional randomness by limiting the number of features that can be used to train each individual model. \n",
    "For each tree, we can randomly select a subset of features.\n",
    "This variation of bagging is called Random Forests.\n",
    "\n",
    "Let's try training a random forest on the polynomial data we just generated. We'll use the `RandomForestRegressor` class available in scikit-learn.\n"
   ]
  },
  {
   "cell_type": "code",
   "execution_count": null,
   "metadata": {},
   "outputs": [],
   "source": [
    "from sklearn.ensemble import RandomForestRegressor\n",
    "\n",
    "model = RandomForestRegressor()\n",
    "model.fit(X, y)"
   ]
  },
  {
   "cell_type": "markdown",
   "metadata": {},
   "source": [
    "Let's see how it performs."
   ]
  },
  {
   "cell_type": "code",
   "execution_count": null,
   "metadata": {},
   "outputs": [],
   "source": [
    "X_new = np.linspace(-3, 3, 1000).reshape(-1, 1)\n",
    "y_new = model.predict(X_new)\n",
    "\n",
    "fig, ax = plt.subplots()\n",
    "ax.plot(X_new, y_new, label=\"random forest\", color=\"red\")\n",
    "ax.scatter(x, y)\n",
    "ax.set(xlabel='$x$', ylabel=\"$y$\")\n",
    "ax.legend()\n",
    "plt.show()"
   ]
  },
  {
   "cell_type": "markdown",
   "metadata": {},
   "source": [
    "Clearly, it does a much better job than a single decision tree.\n",
    "\n",
    "**Hyperparameters**\n",
    "\n",
    "Random forests have a number of hyperparameters that can be tuned to improve performance. \n",
    "Some common hyperparameters include:\n",
    "- `n_estimators`: the number of trees in the forest\n",
    "- `max_depth`: the maximum depth of the trees\n",
    "- `max_samples`: the number of samples to draw from the dataset to train each tree\n",
    "\n",
    "In the next section, we'll learn how to use hyperparameter tuning to find the best values for these hyperparameters.\n",
    "\n",
    "**Feature importances**\n",
    "\n",
    "A nice feature of random forests is that they can assign an importance score to each feature based on how useful they are at predicting the target variable.\n",
    "The importance score is a numerical value that indicates how much the model performance decreases if we remove a particular feature.\n",
    "The importance score is computed by averaging the improvement in the model's performance brought by a feature across all trees in the forest.\n",
    "\n",
    "To understand this feature, we'll use the diabetes dataset from scikit-learn. \n",
    "The dataset consists of ten baseline variables.\n",
    "The target variable is a quantitative measure of disease progression one year after baseline."
   ]
  },
  {
   "cell_type": "code",
   "execution_count": null,
   "metadata": {},
   "outputs": [],
   "source": [
    "from sklearn.datasets import load_diabetes\n",
    "\n",
    "diabetes = load_diabetes()\n",
    "\n",
    "X = diabetes.data\n",
    "y = diabetes.target\n",
    "\n",
    "print(diabetes.DESCR)"
   ]
  },
  {
   "cell_type": "markdown",
   "metadata": {},
   "source": [
    "We can access the feature importances using the `feature_importances_` attribute. Let's train a model and see what these look like."
   ]
  },
  {
   "cell_type": "code",
   "execution_count": null,
   "metadata": {},
   "outputs": [],
   "source": [
    "model = RandomForestRegressor()\n",
    "model.fit(X, y)\n",
    "\n",
    "importances = model.feature_importances_\n",
    "importances\n"
   ]
  },
  {
   "cell_type": "markdown",
   "metadata": {},
   "source": [
    "This is a list of each importance for every feature in the training dataset. This is quite hard to understand in this format but we can plot it for easier interpretation."
   ]
  },
  {
   "cell_type": "code",
   "execution_count": null,
   "metadata": {},
   "outputs": [],
   "source": [
    "fig, ax = plt.subplots()\n",
    "std = np.std([tree.feature_importances_ for tree in model.estimators_], axis=0)\n",
    "ax.bar(diabetes.feature_names, importances, yerr=std)\n",
    "ax.set(ylabel=\"Importance\")\n",
    "plt.show()"
   ]
  },
  {
   "cell_type": "markdown",
   "metadata": {},
   "source": [
    "Finally, let's check how well our model is performing by calculating the mean absolute error of predictions. The mean absolute error is defined as:\n",
    "\n",
    "$$\n",
    "\\text{MAE} = \\frac{1}{N} \\sum_{i=1}^{N} |y_i - \\hat{y}_i|\n",
    "$$\n",
    "\n",
    "where:\n",
    "- $n$ is the number of samples\n",
    "- $y_i$ is the true target value\n",
    "- $\\hat{y}_i$ is the predicted target value"
   ]
  },
  {
   "cell_type": "code",
   "execution_count": null,
   "metadata": {},
   "outputs": [],
   "source": [
    "from sklearn.metrics import mean_absolute_error\n",
    "\n",
    "y_pred = model.predict(X)\n",
    "mse = mean_absolute_error(  )\n",
    "print(f\"Mean absolute error: {mse:.2f}\")"
   ]
  },
  {
   "cell_type": "markdown",
   "metadata": {},
   "source": [
    "<details>\n",
    "<summary> Code hint </summary>\n",
    "You need to add the true target values <code>y</code> and the predicted values <code>y_pred</code> as arguments to the <code>mean_absolute_error</code> function.\n",
    "</details>"
   ]
  },
  {
   "cell_type": "markdown",
   "metadata": {},
   "source": [
    "## Model training procedure \n",
    "\n",
    "So far, we have used the entire dataset for training the model.\n",
    "This is generally not a good practice, as it can lead to overfitting.\n",
    "Overfitting occurs when a model learns the training data too well, capturing noise along with the underlying patterns.\n",
    "This can cause the model to generalise poorly on new, unseen data.\n",
    "\n",
    "To avoid overfitting, we should split the dataset into two parts:\n",
    "1. The training set: used to train the model.\n",
    "2. The test set: used to evaluate the model's performance on unseen data.\n",
    "\n",
    "The scikit-learn library provides a function called `train_test_split` to do this.\n",
    "It randomly splits the dataset into training and test sets.\n",
    "The `test_size` parameter determines the proportion of the dataset to include in the test set.\n",
    "We'll use a value of 0.2, indicating that 20% of the data is reserved for testing.\n",
    "\n",
    "Let's split the diabetes dataset into training and test sets and train a random forest regressor on the training set.\n"
   ]
  },
  {
   "cell_type": "code",
   "execution_count": null,
   "metadata": {},
   "outputs": [],
   "source": [
    "from sklearn.model_selection import train_test_split\n",
    "\n",
    "X_train, X_test, y_train, y_test = train_test_split(X, y, test_size=0.2, random_state=42)\n",
    "\n",
    "model = RandomForestRegressor()\n",
    "model.fit(X_train, y_train)\n",
    "\n",
    "y_pred = model.predict(X_test)\n",
    "mse = mean_absolute_error(y_test, y_pred)\n",
    "print(f\"Mean absolute error: {mse:.2f}\")"
   ]
  },
  {
   "cell_type": "markdown",
   "metadata": {},
   "source": [
    "How does this compare to the MAE of the model trained on the full dataset? Why do you think this is?\n",
    "\n",
    "**Cross-validation**\n",
    "\n",
    "While splitting the dataset into training and test sets is a good practice, it can lead to variability in the model's performance.\n",
    "This is because the performance metrics can vary depending on how the dataset is split.\n",
    "Cross-validation is a technique used to address this issue.\n",
    "It involves splitting the dataset into multiple parts (folds) and training the model on different combinations of these parts.\n",
    "The performance metrics are then averaged over all the folds to get a more robust estimate of the model's performance.\n",
    "\n",
    "Typically, the dataset is first split into training and test sets.\n",
    "The training set is then used with cross validation to tune the model by adjusting the parameters (hyperparameter tuning).\n",
    "Finally, the test set is used to evaluate the model's performance.\n",
    "\n",
    "<img src=\"https://scikit-learn.org/stable/_images/grid_search_cross_validation.png\" width=500px>\n",
    "\n",
    "The scikit-learn library provides a function called `cross_val_score` to perform cross-validation.\n",
    "It takes the model, the dataset, the number of folds, and the scoring metric as input.\n",
    "The function returns an array of scores, one for each fold.\n",
    "\n",
    "Let's use cross-validation to evaluate the performance of a random forest regressor on the diabetes dataset. The `cv` parameter controls how many folds to use. Here we're using 5.\n"
   ]
  },
  {
   "cell_type": "code",
   "execution_count": null,
   "metadata": {},
   "outputs": [],
   "source": [
    "from sklearn.model_selection import cross_val_score\n",
    "\n",
    "model = RandomForestRegressor()\n",
    "scores = cross_val_score(model, X_train, y_train, cv=5, scoring=\"neg_mean_absolute_error\")\n",
    "mae_scores = -scores\n",
    "mae_scores\n",
    "\n",
    "print(f\"Mean absolute error: {mae_scores.mean():.2f} (+/- {mae_scores.std() * 2:.2f})\")"
   ]
  },
  {
   "cell_type": "markdown",
   "metadata": {},
   "source": [
    "**Hyperparameter tuning**\n",
    "\n",
    "Hyperparameters are parameters that are set before the model is trained and control the learning process and affect the model's performance.\n",
    "Hyperparameter tuning involves finding the best set of hyperparameters for a given model and dataset.\n",
    "This is typically done using techniques like grid search (where all combinations of parameters are exhaustively tested) or random search (where parameter combinations are selected randomly).\n",
    "\n",
    "The scikit-learn library provides a class called `GridSearchCV` to perform grid search.\n",
    "It takes the model, the hyperparameters to search over, and the scoring metric as input.\n",
    "The function searches over all possible combinations of hyperparameters and evaluates the model using cross-validation.\n",
    "\n",
    "Let's use grid search to find the best set of hyperparameters for a random forest regressor on the diabetes dataset. Here we'll test the following parameters:\n",
    "\n",
    "- `n_estimators` of 100, 200, 300\n",
    "- `max_depth` of 1, 5, 10\n",
    "\n",
    "This means we'll have to train a total of 3 * 3 = 9 models and can take some time. As you can see, exhaustive grid search is only possible when training small models or few hyperparameter combinations.\n"
   ]
  },
  {
   "cell_type": "code",
   "execution_count": null,
   "metadata": {},
   "outputs": [],
   "source": [
    "from sklearn.model_selection import GridSearchCV\n",
    "\n",
    "param_grid = {\n",
    "    \"n_estimators\": [   # Fill in the values   ],\n",
    "    \"max_depth\": [   # Fill in the values   ],\n",
    "}\n",
    "\n",
    "model = RandomForestRegressor()\n",
    "grid_search = GridSearchCV(model, param_grid, cv=5, scoring=\"neg_mean_absolute_error\")\n",
    "grid_search.fit(X_train, y_train)\n",
    "\n",
    "print(f\"Best hyperparameters: {grid_search.best_params_}\")\n",
    "print(f\"Best mean absolute error: {-grid_search.best_score_:.2f}\")\n"
   ]
  },
  {
   "cell_type": "markdown",
   "metadata": {},
   "source": [
    "<details>\n",
    "<summary> Code hint </summary>\n",
    "\n",
    "You need to fill out the estimators and max_depth values. For example:\n",
    "\n",
    "```python\n",
    "param_grid = {\n",
    "    \"n_estimators\": [100, 200, 300],\n",
    "    \"max_depth\": [1, 5, 10],\n",
    "}\n",
    "```\n",
    "\n",
    "</details>\n",
    "\n",
    "We can plot the model performance over the grid of hyperparameters to visualise the results."
   ]
  },
  {
   "cell_type": "code",
   "execution_count": null,
   "metadata": {},
   "outputs": [],
   "source": [
    "\n",
    "results = grid_search.cv_results_\n",
    "scores = -np.array(results[\"mean_test_score\"]).reshape(len(param_grid[\"n_estimators\"]), len(param_grid[\"max_depth\"]))\n",
    "scores\n",
    "\n",
    "fig, ax = plt.subplots()\n",
    "cax = ax.matshow(scores, cmap=\"viridis\")\n",
    "ax.set(\n",
    "    xticks=np.arange(len(param_grid[\"max_depth\"])),\n",
    "    yticks=np.arange(len(param_grid[\"n_estimators\"])),\n",
    "    xticklabels=param_grid[\"max_depth\"],\n",
    "    yticklabels=param_grid[\"n_estimators\"],\n",
    "    xlabel=\"max_depth\",\n",
    "    ylabel=\"n_estimators\",\n",
    ")\n",
    "plt.colorbar(cax, label=\"Mean absolute error\")\n",
    "plt.show()"
   ]
  },
  {
   "cell_type": "markdown",
   "metadata": {
    "id": "DIia0_h9ciGa"
   },
   "source": [
    "## Task: Classifying metallicity\n",
    "\n",
    "For this exercise, we're going to use the [`matbench_expt_is_metal` dataset](https://matbench.materialsproject.org/Leaderboards%20Per-Task/matbench_v0.1_matbench_expt_is_metal/). \n",
    "This dataset contains ~4,000 samples of inorganic materials taken from experiments and whether they are metallic or not.\n",
    "\n",
    "The original dataset just includes the composition from experiments. I have added 23 chemical features to the dataset using the `matminer` package which are based on elemental properties of the materials.\n",
    "In particular, these are the Magpie elemental property descriptors which include the melting point, molecular weight, Mendeleev number etc. Because many of the materials contain more than one element, I have taken a weighted sum of the features where the weight is the fraction of the element in the composition.\n",
    "You can read more about the magpie features [here](https://www.nature.com/articles/npjcompumats201628).\n",
    "\n",
    "- Firstly, have a look at the [`matbench_expt_is_metal` dataset page](https://matbench.materialsproject.org/Leaderboards%20Per-Task/matbench_v0.1_matbench_expt_is_metal/). \n",
    "- Familiarise yourself with the magpie features and think about which ones may have more predicting power over others. \n",
    "- You will need to encode the class variable as an integer (currently it is a boolean - you saw how to do this in Workshop 1).\n",
    "- Fit a decision tree but make sure to split your data into testing and training sets. What's the prediction success rate? Find out the spread of the success rate (mean, variance).\n",
    "- Fit a random forest classifier. Does this improve things? \n",
    "- Can you tune the parameters to get an even better prediction rate? Use 5-fold cross-validation to obtain a range of predictions, report your average precision for your best model.\n",
    "- Which parameters are more important than others? What happens when you train on a subset of parameters? Play around with this to see what happens. \n",
    "- *Bonus*: Download and install the XGBoost package. How does this perform.\n"
   ]
  },
  {
   "cell_type": "code",
   "execution_count": null,
   "metadata": {},
   "outputs": [],
   "source": [
    "df = pd.read_csv(\"https://raw.githubusercontent.com/utf/DataAnalyticsChemistry/refs/heads/main/datasets/is-metal-magpie.csv\")\n",
    "features = df.columns[:-1]\n",
    "X = df[features].values\n",
    "y = df[\"is_metal\"].values\n",
    "\n",
    "df"
   ]
  },
  {
   "cell_type": "code",
   "execution_count": null,
   "metadata": {},
   "outputs": [],
   "source": [
    "# Your code here\n"
   ]
  },
  {
   "cell_type": "markdown",
   "metadata": {
    "id": "BZfqPL6zifCa",
    "tags": []
   },
   "source": [
    "## Additional reading\n",
    "\n",
    "This notebook can be complimented with Chapter 6 of [Introduction to Statistical Learning](https://www.statlearning.com) for more background to the field."
   ]
  }
 ],
 "metadata": {
  "colab": {
   "provenance": [],
   "toc_visible": true
  },
  "kernelspec": {
   "display_name": "py3",
   "language": "python",
   "name": "python3"
  },
  "language_info": {
   "codemirror_mode": {
    "name": "ipython",
    "version": 3
   },
   "file_extension": ".py",
   "mimetype": "text/x-python",
   "name": "python",
   "nbconvert_exporter": "python",
   "pygments_lexer": "ipython3",
   "version": "3.9.7"
  }
 },
 "nbformat": 4,
 "nbformat_minor": 4
}
