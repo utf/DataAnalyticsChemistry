{
 "cells": [
  {
   "cell_type": "markdown",
   "metadata": {
    "id": "aB6tYmdQciGS",
    "tags": []
   },
   "source": [
    "# Python Refresher\n",
    "\n",
    "**Note**: This refresher was based on the [ML for Materials](https://github.com/aronwalsh/MLforMaterials) course developed by Prof. Aron Walsh.\n",
    "\n",
    "## Welcome to Jupyter Book\n",
    "\n",
    "The workshops for the Data Analytics in Chemistry module are provided in the form of Jupyter Notebooks embedded in a Jupyter Book. These allow you to run and easily share computer code. This combination makes Jupyter notebooks a useful tool for analysing data.\n",
    "\n",
    "Unlike spreadsheets or combinations of separate data analysis codes, you can collect descriptions and notes for individual experiments, links to the raw data collected, the computer code that performs any necessary data analysis, and the final figures generated with these data, ready for use in a report or published paper.\n",
    "\n",
    "There are a few components to be aware of:\n",
    "\n",
    "### Python\n",
    "\n",
    "A working knowledge of the [Python](https://www.python.org) programming language is assumed for this course. If you are rusty, Chapters 1-4 of [Datacamp](https://www.datacamp.com/courses/intro-to-python-for-data-science) cover the base concepts, as do many other online resources including Imperial's [Introduction to Python](https://www.imperial.ac.uk/students/academic-support/graduate-school/students/doctoral/professional-development/research-computing-data-science/courses/intro-to-python) course.\n",
    "\n",
    "### Markdown\n",
    "\n",
    "Markdown is a markup language that allows easy formatting of text. It is widely used for creating and formatting online content. It is easier to read and write than html. A guide to the syntax can be found [here](https://www.markdownguide.org/basic-syntax/).\n",
    "\n",
    "```\n",
    "# Heading\n",
    "## Smaller heading\n",
    "### Even smaller heading\n",
    "```\n",
    "\n",
    "#### Write an equation\n",
    "\n",
    "This is written in [LaTeX](https://www.overleaf.com/learn/latex/Learn_LaTeX_in_30_minutes) format. It's easy to learn and useful for complex expressions.\n",
    "\n",
    "`$-\\dfrac{\\hslash^2}{2m} \\, \\dfrac{\\partial^2 \\psi}{\\partial x^2}$`\n",
    "\n",
    "which renders as\n",
    "\n",
    "$-\\dfrac{\\hslash^2}{2m} \\, \\dfrac{\\partial^2 \\psi}{\\partial x^2}$\n",
    "\n",
    "#### Link an image\n",
    "\n",
    "The syntax used here is Markdown, which can be used in notebooks and is also popular on github for documentation and even a fast way to take notes during lectures.\n",
    "\n",
    "`![](https://upload.wikimedia.org/wikipedia/commons/2/26/Agomelatine3Dan3.gif)`\n",
    "\n",
    "which renders as\n",
    "\n",
    "![](https://upload.wikimedia.org/wikipedia/commons/2/26/Agomelatine3Dan3.gif)\n",
    "\n",
    "### Github\n",
    "\n",
    "[GitHub](https://github.com) is a platform for writing and sharing code. There are many materials science projects hosted there, which enable researchers from around the world to contribute to their development. \n",
    "\n",
    "### Running the Notebook\n",
    "\n",
    "The weekly notebooks are designed to be run online directly in your browser. You can activate the server by clicking the rocket icon on the top right and selecting `Live Code`. There is an option to open in [Binder](https://mybinder.org) or [Google Colab](https://colab.research.google.com), which you may prefer if you are an advanced user, but the formatting won't be as nice. You can opt to install Python on your own computer with [Anaconda](https://www.anaconda.com/products/distribution) and run the notebooks locally, but we do not offer support if things go wrong.\n",
    "\n",
    "## Analyse data with code\n",
    "\n",
    "By programming a series of instructions, researchers can consistently obtain the same results from a given dataset. This approach enables us to share datasets and code, allowing other scientists to review, repeat and reuse the analysis.  The transparency and reproducibility of code-based analysis enhances research integrity and credibility, while minimising errors. It also enables efficient handling of large datasets and complex calculations, accelerating the exploration of different techniques.\n",
    "\n",
    "### Running code\n",
    "\n",
    "Different programming languages can be used in Jupyter notebooks. We will be using Python 3. The large scientific community for Python means that well-developed resources exist for data processing and specific prewritten tools for manipulating and plotting data.\n",
    "\n",
    "Any code typed into a code cell can be run (executed) by pressing the `run` button. You can also run the selected code block using `Shift-Enter` combination on your keyboard."
   ]
  },
  {
   "cell_type": "code",
   "execution_count": null,
   "metadata": {
    "colab": {
     "base_uri": "https://localhost:8080/"
    },
    "collapsed": false,
    "id": "wCimyGVFciGU",
    "jupyter": {
     "outputs_hidden": false
    },
    "outputId": "6f46572f-a956-4342-def3-8713a99c224d"
   },
   "outputs": [],
   "source": [
    "2 + 3  # run this cell"
   ]
  },
  {
   "cell_type": "code",
   "execution_count": null,
   "metadata": {
    "colab": {
     "base_uri": "https://localhost:8080/"
    },
    "collapsed": false,
    "id": "2VOKhE8pciGW",
    "jupyter": {
     "outputs_hidden": false
    },
    "outputId": "c14bdab6-a0e1-4181-b0bb-dc43afb85865"
   },
   "outputs": [],
   "source": [
    "print(\"Hellow World!\")  # anything after '#' is a comment and ignored"
   ]
  },
  {
   "cell_type": "code",
   "execution_count": null,
   "metadata": {
    "colab": {
     "base_uri": "https://localhost:8080/"
    },
    "collapsed": false,
    "id": "iRqw3mAwciGW",
    "jupyter": {
     "outputs_hidden": false
    },
    "outputId": "e774b03f-36f0-420c-9d2d-d29426602fa3"
   },
   "outputs": [],
   "source": [
    "12 * 2.40 * 3737 * 12  # you get the idea"
   ]
  },
  {
   "cell_type": "code",
   "execution_count": null,
   "metadata": {
    "colab": {
     "base_uri": "https://localhost:8080/"
    },
    "collapsed": false,
    "id": "unZ26LEociGW",
    "jupyter": {
     "outputs_hidden": false
    },
    "outputId": "65ccf1d5-52a2-49c7-dec9-6999d12ddd8e"
   },
   "outputs": [],
   "source": [
    "2**1000 - 2  # a big number"
   ]
  },
  {
   "cell_type": "code",
   "execution_count": null,
   "metadata": {
    "colab": {
     "base_uri": "https://localhost:8080/"
    },
    "collapsed": false,
    "id": "MyM32PMxciGW",
    "jupyter": {
     "outputs_hidden": false
    },
    "outputId": "a53bd082-8a05-4dbf-c5cb-807809c725aa"
   },
   "outputs": [],
   "source": [
    "import math as m  # import a math module\n",
    "\n",
    "m.pi"
   ]
  },
  {
   "cell_type": "code",
   "execution_count": null,
   "metadata": {
    "colab": {
     "base_uri": "https://localhost:8080/"
    },
    "collapsed": false,
    "id": "P574cgsSciGX",
    "jupyter": {
     "outputs_hidden": false
    },
    "outputId": "a1f16417-6f1d-417b-b6ad-5ab5321a5dfd"
   },
   "outputs": [],
   "source": [
    "20 * m.atan(1/7) + 8 * m.atan(3/79)  # Euler's approximation"
   ]
  },
  {
   "cell_type": "markdown",
   "metadata": {},
   "source": [
    "###  Multidimensional data with numpy\n",
    "\n",
    "Numpy makes it easy to work with multidimensional data such as vectors and matrices. All of the packages used in this course are designed to handle numpy arrays. Let's import it and show you some features."
   ]
  },
  {
   "cell_type": "code",
   "execution_count": null,
   "metadata": {},
   "outputs": [],
   "source": [
    "import numpy as np\n",
    "\n",
    "x = np.arange(0, 10, 0.5) # x = 0 to 10 in steps of 0.5\n",
    "x"
   ]
  },
  {
   "cell_type": "markdown",
   "metadata": {},
   "source": [
    "Many numpy functions can be run on entire vectors."
   ]
  },
  {
   "cell_type": "code",
   "execution_count": null,
   "metadata": {},
   "outputs": [],
   "source": [
    "np.sin(x)  # calculate sin(x) for every element in the list"
   ]
  },
  {
   "cell_type": "code",
   "execution_count": null,
   "metadata": {},
   "outputs": [],
   "source": [
    "(x + 10) / 12  # perform numerical operations"
   ]
  },
  {
   "cell_type": "code",
   "execution_count": null,
   "metadata": {},
   "outputs": [],
   "source": [
    "np.random.random(10)  # generate random numbers"
   ]
  },
  {
   "cell_type": "code",
   "execution_count": null,
   "metadata": {},
   "outputs": [],
   "source": [
    "y = np.array([[3, 1, 0], [0, 3, 4], [0, 5, 10]])  # create a matrix (2D array) from scratch\n",
    "y"
   ]
  },
  {
   "cell_type": "code",
   "execution_count": null,
   "metadata": {},
   "outputs": [],
   "source": [
    "np.linalg.norm(y)  # linear algebra routines"
   ]
  },
  {
   "cell_type": "code",
   "execution_count": null,
   "metadata": {},
   "outputs": [],
   "source": [
    "np.dot(x, x)  # dot products"
   ]
  },
  {
   "cell_type": "markdown",
   "metadata": {
    "id": "5B698R2pciGX"
   },
   "source": [
    "### Plotting with Matplotlib"
   ]
  },
  {
   "cell_type": "markdown",
   "metadata": {
    "id": "neke0J4KifCW"
   },
   "source": [
    "Let's import the package [Matplotlib](https://matplotlib.org), which we will be using a lot for data visualisation."
   ]
  },
  {
   "cell_type": "code",
   "execution_count": null,
   "metadata": {
    "colab": {
     "base_uri": "https://localhost:8080/",
     "height": 448
    },
    "collapsed": false,
    "id": "oyBEOTXociGX",
    "jupyter": {
     "outputs_hidden": false
    },
    "outputId": "8b8a7522-08e3-4235-b064-f64adbf1b6b1",
    "tags": []
   },
   "outputs": [],
   "source": [
    "import matplotlib.pyplot as plt\n",
    "\n",
    "x = np.arange(0, 10, 0.001)  # x = 0 to 10 in steps of 0.001\n",
    "y = np.sin(x*x)  # define your function\n",
    "\n",
    "fig, ax = plt.subplots(figsize=(5, 3)) # create a new figure (5x3 inches)\n",
    "\n",
    "ax.plot(,y) # plot x against y"
   ]
  },
  {
   "cell_type": "markdown",
   "metadata": {
    "id": "lxLc8V4tb5zh"
   },
   "source": [
    "<details>\n",
    "<summary> Code hint </summary>\n",
    "You need to plot x vs y. Fix the plot command to (x,y).\n",
    "</details>"
   ]
  },
  {
   "cell_type": "markdown",
   "metadata": {
    "id": "Z8_nYqMH2MW9"
   },
   "source": [
    "### Using a Pandas DataFrames\n",
    "\n",
    "Pandas DataFrames are useful tools to store, access, and modify large sets of data. In this course, we'll make use of [Pandas](https://pandas.pydata.org) to process input and output data for our machine learning models."
   ]
  },
  {
   "cell_type": "code",
   "execution_count": null,
   "metadata": {
    "colab": {
     "base_uri": "https://localhost:8080/"
    },
    "id": "UamDrzLn2LoS",
    "outputId": "47b9cf3b-9333-46d7-e785-d0b936bbc93e",
    "tags": []
   },
   "outputs": [],
   "source": [
    "import pandas as pd  # Data manipulation with DataFrames\n",
    "\n",
    "df = pd.DataFrame() #This instantiates an empty Pandas DataFrame\n",
    "\n",
    "data = {\n",
    "    \"Element\" : ['C', 'O', 'Fe', 'Mg', 'Xe'],\n",
    "    \"Atomic Number\" : [6, 8, 26, 12, 54],\n",
    "    \"Atomic Mass\" : [12, 16, 56, 24, 131]\n",
    "}\n",
    "\n",
    "# Let's try loading data into DataFrame df\n",
    "df = pd.DataFrame(data)\n",
    "df"
   ]
  },
  {
   "cell_type": "code",
   "execution_count": null,
   "metadata": {},
   "outputs": [],
   "source": [
    "# We can make the 'Element' column the index of this DataFrame using the set_index function\n",
    "df = df.set_index(\"Element\")\n",
    "df"
   ]
  },
  {
   "cell_type": "code",
   "execution_count": null,
   "metadata": {},
   "outputs": [],
   "source": [
    "# Printing the values in the 'Atomic Number' column\n",
    "print(df[\"Atom Number\"])"
   ]
  },
  {
   "cell_type": "markdown",
   "metadata": {
    "id": "BOl6MmQuifCW",
    "tags": []
   },
   "source": [
    "<details>\n",
    "<summary> Code hint </summary>\n",
    "Check you are printing the correct column name. Try out some of the other options.\n",
    "</details>"
   ]
  },
  {
   "cell_type": "code",
   "execution_count": null,
   "metadata": {
    "colab": {
     "base_uri": "https://localhost:8080/"
    },
    "id": "gcUlJMzWb5zi",
    "outputId": "7bb8809f-3477-4593-f177-857e9bc1a1b4",
    "tags": []
   },
   "outputs": [],
   "source": [
    "# Add a new column\n",
    "df[\"Energy (eV)\"] = [5.47, 5.14, 0.12, 4.34, 7.01]\n",
    "\n",
    "print(df[\"Energy (eV)\"])"
   ]
  },
  {
   "cell_type": "code",
   "execution_count": null,
   "metadata": {
    "colab": {
     "base_uri": "https://localhost:8080/"
    },
    "id": "HxPmwuvub5zi",
    "outputId": "bbe23a6f-6569-40dc-d5ed-64431df3a9be",
    "tags": []
   },
   "outputs": [],
   "source": [
    "# Print a row from the DataFrame\n",
    "\n",
    "# The df.loc[index] function to print the entry \"C\"\n",
    "print(df.loc[''])\n",
    "\n",
    "print('-----')\n",
    "\n",
    "# The df.iloc[index] function to print the first entry (counting starts at 0...)\n",
    "print(df.iloc[0])"
   ]
  },
  {
   "cell_type": "markdown",
   "metadata": {
    "id": "LsKd-p8Ob5zi"
   },
   "source": [
    "<details>\n",
    "<summary> Code hint </summary>\n",
    "You need to tell `df.loc` what to look for. Put an element name in between the quotes.\n",
    "</details>"
   ]
  }
 ],
 "metadata": {
  "colab": {
   "provenance": [],
   "toc_visible": true
  },
  "kernelspec": {
   "display_name": "py3",
   "language": "python",
   "name": "python3"
  },
  "language_info": {
   "codemirror_mode": {
    "name": "ipython",
    "version": 3
   },
   "file_extension": ".py",
   "mimetype": "text/x-python",
   "name": "python",
   "nbconvert_exporter": "python",
   "pygments_lexer": "ipython3",
   "version": "3.9.7"
  }
 },
 "nbformat": 4,
 "nbformat_minor": 4
}
